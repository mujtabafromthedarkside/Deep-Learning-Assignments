{
  "nbformat": 4,
  "nbformat_minor": 0,
  "metadata": {
    "colab": {
      "name": "Flower Recognition assignment solved.ipynb",
      "provenance": [],
      "collapsed_sections": [],
      "toc_visible": true
    },
    "kernelspec": {
      "name": "python3",
      "display_name": "Python 3"
    },
    "language_info": {
      "name": "python"
    }
  },
  "cells": [
    {
      "cell_type": "code",
      "metadata": {
        "id": "qHPwij8g_vGv"
      },
      "source": [
        ""
      ],
      "execution_count": null,
      "outputs": []
    },
    {
      "cell_type": "markdown",
      "metadata": {
        "id": "EUcPGaqJ_46U"
      },
      "source": [
        "Assignment: Flowers Recognition\n",
        "Dataset Description:\n",
        "\n",
        "This dataset contains **4242** images of flowers.\n",
        "The data collection is based on the data flicr, google images, yandex images.\n",
        "You can use this datastet to recognize plants from the photo.\n",
        "\n",
        "Attribute Information:<br>\n",
        "The pictures are divided into **five classes**: chamomile, tulip, rose, sunflower, dandelion.<br>\n",
        "For each class there are about **800 photos**. Photos are not high resolution, about **320x240 pixels**.<br>\n",
        "<b>Also explore how to resize images in tensorflow and then resize all the images to a same size.</b><br>\n",
        "This is a Multiclass Classification Problem."
      ]
    },
    {
      "cell_type": "markdown",
      "metadata": {
        "id": "tLOMOdoa_5Ug"
      },
      "source": [
        "WORKFLOW : <br>\n",
        "Load Data <br>\n",
        "Split into 60 and 40 ratio.<br>\n",
        "Encode labels.<br>\n",
        "Create Model<br>\n",
        "Compilation Step (Note : Its a Multiclass Classification problem , select loss , metrics according to it)<br>\n",
        "Train the Model.<br>\n",
        "If the model gets overfit tune your model by changing the units , No. of layers , epochs , add dropout layer or add Regularizer according to the need .<br>\n",
        "Prediction should be > 85%<br>\n",
        "Evaluation Step<br>\n",
        "Prediction<br>\n"
      ]
    },
    {
      "cell_type": "markdown",
      "metadata": {
        "id": "QV7soxlgiqrN"
      },
      "source": [
        "## **Loading Image Data**"
      ]
    },
    {
      "cell_type": "code",
      "metadata": {
        "id": "7caEcF3p_89J"
      },
      "source": [
        "!unzip '/content/drive/MyDrive/flowers archive.zip'   # I collapsed the output because it was unnecessary 4000 lines"
      ],
      "execution_count": null,
      "outputs": []
    },
    {
      "cell_type": "code",
      "metadata": {
        "colab": {
          "base_uri": "https://localhost:8080/",
          "height": 35
        },
        "id": "E43cWf1wB3d4",
        "outputId": "ba7d23b5-4b48-47a7-d581-4bebd959c3bb"
      },
      "source": [
        "import os\n",
        "os.path.join('/content/flowers', 'flowers')   # Given 2 strings, it makes a path out of them joining them via / )"
      ],
      "execution_count": 4,
      "outputs": [
        {
          "output_type": "execute_result",
          "data": {
            "application/vnd.google.colaboratory.intrinsic+json": {
              "type": "string"
            },
            "text/plain": [
              "'/content/flowers/flowers'"
            ]
          },
          "metadata": {
            "tags": []
          },
          "execution_count": 4
        }
      ]
    },
    {
      "cell_type": "markdown",
      "metadata": {
        "id": "vlBGoXM8jYnf"
      },
      "source": [
        "### Making a Function for Loading, Resizing, Preprocessing, Normalizing Image Data "
      ]
    },
    {
      "cell_type": "code",
      "metadata": {
        "id": "3p_2f1y3DtPt"
      },
      "source": [
        "import matplotlib\n",
        "import os\n",
        "import PIL\n",
        "\n",
        "\n",
        "from os import listdir\n",
        "from matplotlib import image\n",
        "from PIL import Image\n",
        "import numpy as np\n",
        "import PIL.ImageOps\n",
        "\n",
        "def create_dataset_PIL(imgfolder):\n",
        "  img_data_array = []\n",
        "  class_name=[]\n",
        "  \n",
        "  for folder in listdir(imgfolder):\n",
        "      for filename in listdir(os.path.join(imgfolder, folder)):\n",
        "        if '.jpg' in filename:\n",
        "\n",
        "          # load images:\n",
        "          image = Image.open(os.path.join(imgfolder , folder , filename)).resize((320,240))\n",
        "          image = PIL.ImageOps.grayscale(image)\n",
        "                              # alternate way via matplotlib : image = image.imread(os.path.join(imgfolder , folder , filename)) \n",
        "         # manipulating the image array to our needs:\n",
        "          image = np.array(image)\n",
        "          image = image.reshape((320*240,))\n",
        "          image = image.astype('float32')\n",
        "          image /= 255 \n",
        "\n",
        "         #append data + label to their respective lists:\n",
        "          img_data_array.append(image)\n",
        "          class_name.append(folder)\n",
        "        else : \n",
        "          pass\n",
        "\n",
        "\n",
        "  return img_data_array , class_name"
      ],
      "execution_count": 5,
      "outputs": []
    },
    {
      "cell_type": "markdown",
      "metadata": {
        "id": "0RnTTX5pjrOY"
      },
      "source": [
        "### **Loading Data**"
      ]
    },
    {
      "cell_type": "code",
      "metadata": {
        "id": "tFZz6RvTMqdA"
      },
      "source": [
        "image_data , labels = create_dataset_PIL('/content/flowers')"
      ],
      "execution_count": 6,
      "outputs": []
    },
    {
      "cell_type": "markdown",
      "metadata": {
        "id": "t14zSXkBj2DB"
      },
      "source": [
        "## **Converting Labels to Numbers for encoding purpose**"
      ]
    },
    {
      "cell_type": "code",
      "metadata": {
        "id": "zdsXtGkzPno8"
      },
      "source": [
        "dicti = dict([(label, index) for index, label in enumerate(np.unique(labels)) ])"
      ],
      "execution_count": 7,
      "outputs": []
    },
    {
      "cell_type": "code",
      "metadata": {
        "id": "T2GPQQoSRAM9"
      },
      "source": [
        "target_labels = [dicti[labels[n]] for n in range(len(labels))]"
      ],
      "execution_count": 8,
      "outputs": []
    },
    {
      "cell_type": "code",
      "metadata": {
        "colab": {
          "base_uri": "https://localhost:8080/"
        },
        "id": "rCe6KCSXfE_s",
        "outputId": "f34c8cb3-0f95-448e-9d1c-ec75b99a2869"
      },
      "source": [
        "len(target_labels)"
      ],
      "execution_count": 9,
      "outputs": [
        {
          "output_type": "execute_result",
          "data": {
            "text/plain": [
              "4323"
            ]
          },
          "metadata": {
            "tags": []
          },
          "execution_count": 9
        }
      ]
    },
    {
      "cell_type": "code",
      "metadata": {
        "colab": {
          "base_uri": "https://localhost:8080/"
        },
        "id": "XVdOJef9fFE7",
        "outputId": "fbf7d5c0-0aa1-48ad-b380-18c1af2f0a67"
      },
      "source": [
        "len(image_data)"
      ],
      "execution_count": 10,
      "outputs": [
        {
          "output_type": "execute_result",
          "data": {
            "text/plain": [
              "4323"
            ]
          },
          "metadata": {
            "tags": []
          },
          "execution_count": 10
        }
      ]
    },
    {
      "cell_type": "code",
      "metadata": {
        "colab": {
          "base_uri": "https://localhost:8080/"
        },
        "id": "pKnYNSl7fFLL",
        "outputId": "12dcc032-2f01-4b87-9c8f-046ed1c4b84e"
      },
      "source": [
        "image_data[0].shape"
      ],
      "execution_count": 11,
      "outputs": [
        {
          "output_type": "execute_result",
          "data": {
            "text/plain": [
              "(76800,)"
            ]
          },
          "metadata": {
            "tags": []
          },
          "execution_count": 11
        }
      ]
    },
    {
      "cell_type": "markdown",
      "metadata": {
        "id": "gSqtQMHkj9CL"
      },
      "source": [
        "## **Shuffling Dataset**"
      ]
    },
    {
      "cell_type": "code",
      "metadata": {
        "id": "uM6woF0Lhoof"
      },
      "source": [
        "import random\n",
        "\n",
        "c = list(zip(image_data, target_labels))\n",
        "\n",
        "random.shuffle(c)\n",
        "\n",
        "image_data_shuffled , labels_shuffled = zip(*c)\n",
        "\n",
        "image_data_shuffled = list(image_data_shuffled)\n",
        "labels_shuffled = list(labels_shuffled)"
      ],
      "execution_count": 12,
      "outputs": []
    },
    {
      "cell_type": "code",
      "metadata": {
        "id": "Hv9YZaZbkjbn"
      },
      "source": [
        "labels = labels_shuffled\n",
        "data = image_data_shuffled"
      ],
      "execution_count": 13,
      "outputs": []
    },
    {
      "cell_type": "markdown",
      "metadata": {
        "id": "WlXKmQ1tkQhd"
      },
      "source": [
        "## **Splitting Data**"
      ]
    },
    {
      "cell_type": "code",
      "metadata": {
        "id": "RFepcM-1hosd"
      },
      "source": [
        "train_len = len(labels)*6//10\n",
        "test_len = len(labels) - train_len"
      ],
      "execution_count": 14,
      "outputs": []
    },
    {
      "cell_type": "code",
      "metadata": {
        "id": "OsTt4yM9hox2"
      },
      "source": [
        "train_data = data[0 : train_len].copy()\n",
        "test_data = data[train_len : train_len + test_len].copy()\n",
        "\n",
        "train_labels = labels[0 : train_len].copy()\n",
        "test_labels = labels[train_len : train_len + test_len].copy()"
      ],
      "execution_count": 15,
      "outputs": []
    },
    {
      "cell_type": "markdown",
      "metadata": {
        "id": "9vgSsrSSkU2k"
      },
      "source": [
        "## **One-Hot Encoding of Labels**"
      ]
    },
    {
      "cell_type": "code",
      "metadata": {
        "id": "DgyTsjdUlkLz"
      },
      "source": [
        "from keras.utils.np_utils import to_categorical\n",
        "\n",
        "train_labels = to_categorical(train_labels)\n",
        "test_labels = to_categorical(test_labels)"
      ],
      "execution_count": 16,
      "outputs": []
    },
    {
      "cell_type": "code",
      "metadata": {
        "colab": {
          "base_uri": "https://localhost:8080/"
        },
        "id": "xIRIUZF1w1h8",
        "outputId": "a703958c-92a6-4149-e281-147172249fed"
      },
      "source": [
        "train_labels.dtype"
      ],
      "execution_count": 17,
      "outputs": [
        {
          "output_type": "execute_result",
          "data": {
            "text/plain": [
              "dtype('float32')"
            ]
          },
          "metadata": {
            "tags": []
          },
          "execution_count": 17
        }
      ]
    },
    {
      "cell_type": "code",
      "metadata": {
        "colab": {
          "base_uri": "https://localhost:8080/"
        },
        "id": "8ldDE54ew4Zl",
        "outputId": "907af108-987b-4552-b1af-911884790ad7"
      },
      "source": [
        "train_labels.shape"
      ],
      "execution_count": 18,
      "outputs": [
        {
          "output_type": "execute_result",
          "data": {
            "text/plain": [
              "(2593, 5)"
            ]
          },
          "metadata": {
            "tags": []
          },
          "execution_count": 18
        }
      ]
    },
    {
      "cell_type": "code",
      "metadata": {
        "colab": {
          "base_uri": "https://localhost:8080/"
        },
        "id": "OM3bkfMvlkR8",
        "outputId": "9f9bcf19-4768-4731-ef8f-658dbc89ee0e"
      },
      "source": [
        "type(train_data)"
      ],
      "execution_count": 19,
      "outputs": [
        {
          "output_type": "execute_result",
          "data": {
            "text/plain": [
              "list"
            ]
          },
          "metadata": {
            "tags": []
          },
          "execution_count": 19
        }
      ]
    },
    {
      "cell_type": "markdown",
      "metadata": {
        "id": "0sH3zJJIkang"
      },
      "source": [
        "## **additional preprocessing**"
      ]
    },
    {
      "cell_type": "code",
      "metadata": {
        "id": "KKJukXugzFyS"
      },
      "source": [
        "# converting lists to numpy arrays\n",
        "train_data = np.array(train_data, dtype = 'float32')"
      ],
      "execution_count": 20,
      "outputs": []
    },
    {
      "cell_type": "code",
      "metadata": {
        "id": "9vc2ufQXzK5g"
      },
      "source": [
        "test_data = np.array(test_data, dtype = 'float32')"
      ],
      "execution_count": 21,
      "outputs": []
    },
    {
      "cell_type": "code",
      "metadata": {
        "colab": {
          "base_uri": "https://localhost:8080/"
        },
        "id": "3lOdip3AzRJ4",
        "outputId": "447e62d8-89ae-4d4d-ddc5-51ca944c4760"
      },
      "source": [
        "train_data.shape , test_data.shape"
      ],
      "execution_count": 22,
      "outputs": [
        {
          "output_type": "execute_result",
          "data": {
            "text/plain": [
              "((2593, 76800), (1730, 76800))"
            ]
          },
          "metadata": {
            "tags": []
          },
          "execution_count": 22
        }
      ]
    },
    {
      "cell_type": "markdown",
      "metadata": {
        "id": "31I1TRi7kkUV"
      },
      "source": [
        "## **Splitting Training Data to obtain Validation Data**"
      ]
    },
    {
      "cell_type": "code",
      "metadata": {
        "id": "pCYBS3HezEgw"
      },
      "source": [
        "# dividing train_data in ratio of 7:3 for sake of validation\n",
        "\n",
        "len_partial_train = len(train_data)*7//10\n",
        "len_validation = train_len - len_partial_train"
      ],
      "execution_count": 23,
      "outputs": []
    },
    {
      "cell_type": "code",
      "metadata": {
        "id": "3cejEpjVljS8"
      },
      "source": [
        "partial_train_data = train_data[0 : len_partial_train]\n",
        "val_data = train_data[len_partial_train : ]"
      ],
      "execution_count": 24,
      "outputs": []
    },
    {
      "cell_type": "code",
      "metadata": {
        "id": "xvAFdgN5ljXm"
      },
      "source": [
        "partial_train_labels = train_labels[0 : len_partial_train]\n",
        "val_labels = train_labels[len_partial_train : ]"
      ],
      "execution_count": 26,
      "outputs": []
    },
    {
      "cell_type": "code",
      "metadata": {
        "colab": {
          "base_uri": "https://localhost:8080/"
        },
        "id": "0Ws2zjWNmVnZ",
        "outputId": "261560ed-3618-4481-ec46-cfa85a68be74"
      },
      "source": [
        "type(partial_train_labels)"
      ],
      "execution_count": 27,
      "outputs": [
        {
          "output_type": "execute_result",
          "data": {
            "text/plain": [
              "numpy.ndarray"
            ]
          },
          "metadata": {
            "tags": []
          },
          "execution_count": 27
        }
      ]
    },
    {
      "cell_type": "code",
      "metadata": {
        "colab": {
          "base_uri": "https://localhost:8080/"
        },
        "id": "xwb55PRumY75",
        "outputId": "232fc17f-f0e8-428c-b515-b9fcbae21934"
      },
      "source": [
        "type(val_data)"
      ],
      "execution_count": 28,
      "outputs": [
        {
          "output_type": "execute_result",
          "data": {
            "text/plain": [
              "numpy.ndarray"
            ]
          },
          "metadata": {
            "tags": []
          },
          "execution_count": 28
        }
      ]
    },
    {
      "cell_type": "code",
      "metadata": {
        "colab": {
          "base_uri": "https://localhost:8080/"
        },
        "id": "WvEoo8J-qDvW",
        "outputId": "c4eb46c8-7c79-4ca8-e286-078bf239f7bd"
      },
      "source": [
        "len_validation"
      ],
      "execution_count": 29,
      "outputs": [
        {
          "output_type": "execute_result",
          "data": {
            "text/plain": [
              "778"
            ]
          },
          "metadata": {
            "tags": []
          },
          "execution_count": 29
        }
      ]
    },
    {
      "cell_type": "code",
      "metadata": {
        "colab": {
          "base_uri": "https://localhost:8080/"
        },
        "id": "q3bjQmI9uMoH",
        "outputId": "bafc5bbf-ef63-4320-fd49-4a83a4bceded"
      },
      "source": [
        "partial_train_data.shape"
      ],
      "execution_count": 30,
      "outputs": [
        {
          "output_type": "execute_result",
          "data": {
            "text/plain": [
              "(1815, 76800)"
            ]
          },
          "metadata": {
            "tags": []
          },
          "execution_count": 30
        }
      ]
    },
    {
      "cell_type": "code",
      "metadata": {
        "colab": {
          "base_uri": "https://localhost:8080/"
        },
        "id": "D2LYY98ruMrz",
        "outputId": "8c030644-ef16-4e4a-a0ee-40d0eb214969"
      },
      "source": [
        "val_data.shape"
      ],
      "execution_count": 31,
      "outputs": [
        {
          "output_type": "execute_result",
          "data": {
            "text/plain": [
              "(778, 76800)"
            ]
          },
          "metadata": {
            "tags": []
          },
          "execution_count": 31
        }
      ]
    },
    {
      "cell_type": "code",
      "metadata": {
        "colab": {
          "base_uri": "https://localhost:8080/"
        },
        "id": "oLiORNrx1lnF",
        "outputId": "836743a8-b639-4f4c-f06e-e72464bb22a9"
      },
      "source": [
        "val_labels.shape"
      ],
      "execution_count": 32,
      "outputs": [
        {
          "output_type": "execute_result",
          "data": {
            "text/plain": [
              "(778, 5)"
            ]
          },
          "metadata": {
            "tags": []
          },
          "execution_count": 32
        }
      ]
    },
    {
      "cell_type": "code",
      "metadata": {
        "colab": {
          "base_uri": "https://localhost:8080/"
        },
        "id": "E4EsvcqP1pUm",
        "outputId": "9f5e28f5-d9bd-4689-9550-9553afba46d8"
      },
      "source": [
        "partial_train_labels.shape"
      ],
      "execution_count": 33,
      "outputs": [
        {
          "output_type": "execute_result",
          "data": {
            "text/plain": [
              "(1815, 5)"
            ]
          },
          "metadata": {
            "tags": []
          },
          "execution_count": 33
        }
      ]
    },
    {
      "cell_type": "markdown",
      "metadata": {
        "id": "PsTwPevDktZX"
      },
      "source": [
        "## **Building Model & Compiling**"
      ]
    },
    {
      "cell_type": "code",
      "metadata": {
        "id": "JVeusf0wp4Kh"
      },
      "source": [
        "from keras import models\n",
        "from keras import layers\n",
        "from keras import regularizers\n",
        "\n",
        "modelF = models.Sequential()\n",
        "\n",
        "modelF.add(layers.Dense(1024, activation = 'relu', kernel_regularizer = regularizers.l2(0.001), input_shape = (320*240,))) \n",
        "modelF.add(layers.Dropout(0.2))\n",
        "modelF.add(layers.Dense(256, activation = 'relu', kernel_regularizer = regularizers.l2(0.001) ))\n",
        "modelF.add(layers.Dropout(0.2))\n",
        "modelF.add(layers.Dense(32, activation = 'relu', kernel_regularizer = regularizers.l2(0.001)))\n",
        "modelF.add(layers.Dropout(0.2))\n",
        "modelF.add(layers.Dense(5, activation = 'softmax'))\n",
        "\n",
        "modelF.compile(optimizer = 'rmsprop',\n",
        "               loss = 'categorical_crossentropy',\n",
        "               metrics = ['accuracy'])"
      ],
      "execution_count": 34,
      "outputs": []
    },
    {
      "cell_type": "markdown",
      "metadata": {
        "id": "-pAU-VIakxoq"
      },
      "source": [
        "## **Training Model**"
      ]
    },
    {
      "cell_type": "code",
      "metadata": {
        "id": "zGIaRvf8p4VM",
        "colab": {
          "base_uri": "https://localhost:8080/"
        },
        "outputId": "869d8eff-e085-4850-cc9b-9d01517d09f4"
      },
      "source": [
        "historyF = modelF.fit(partial_train_data, \n",
        "                      partial_train_labels,\n",
        "                      epochs = 10,\n",
        "                      batch_size = 32,\n",
        "                      validation_data = (val_data, val_labels)\n",
        "                      )"
      ],
      "execution_count": 35,
      "outputs": [
        {
          "output_type": "stream",
          "text": [
            "Epoch 1/10\n",
            "57/57 [==============================] - 59s 1s/step - loss: 39.6137 - accuracy: 0.2133 - val_loss: 3.0154 - val_accuracy: 0.2802\n",
            "Epoch 2/10\n",
            "57/57 [==============================] - 57s 996ms/step - loss: 2.8724 - accuracy: 0.2520 - val_loss: 2.0615 - val_accuracy: 0.2802\n",
            "Epoch 3/10\n",
            "57/57 [==============================] - 57s 994ms/step - loss: 2.1303 - accuracy: 0.2354 - val_loss: 1.7774 - val_accuracy: 0.2802\n",
            "Epoch 4/10\n",
            "57/57 [==============================] - 57s 995ms/step - loss: 2.0389 - accuracy: 0.2349 - val_loss: 1.8029 - val_accuracy: 0.2802\n",
            "Epoch 5/10\n",
            "57/57 [==============================] - 57s 995ms/step - loss: 1.8309 - accuracy: 0.2292 - val_loss: 1.7369 - val_accuracy: 0.2802\n",
            "Epoch 6/10\n",
            "57/57 [==============================] - 57s 998ms/step - loss: 2.1955 - accuracy: 0.2237 - val_loss: 1.6918 - val_accuracy: 0.2802\n",
            "Epoch 7/10\n",
            "57/57 [==============================] - 57s 1s/step - loss: 2.3151 - accuracy: 0.2481 - val_loss: 1.7868 - val_accuracy: 0.2802\n",
            "Epoch 8/10\n",
            "57/57 [==============================] - 57s 1s/step - loss: 1.8266 - accuracy: 0.2298 - val_loss: 1.6716 - val_accuracy: 0.2802\n",
            "Epoch 9/10\n",
            "57/57 [==============================] - 57s 997ms/step - loss: 1.8970 - accuracy: 0.2416 - val_loss: 1.6935 - val_accuracy: 0.2802\n",
            "Epoch 10/10\n",
            "57/57 [==============================] - 57s 994ms/step - loss: 1.7005 - accuracy: 0.2384 - val_loss: 1.6513 - val_accuracy: 0.2802\n"
          ],
          "name": "stdout"
        }
      ]
    },
    {
      "cell_type": "markdown",
      "metadata": {
        "id": "V7AGNlNlk7IE"
      },
      "source": [
        "## **Evaluating Model on Test Data**"
      ]
    },
    {
      "cell_type": "code",
      "metadata": {
        "colab": {
          "base_uri": "https://localhost:8080/"
        },
        "id": "k97mgcUIlAMS",
        "outputId": "4112919e-7a9c-4f92-ca9d-a20b0ff6bb1e"
      },
      "source": [
        "# Retraining model\n",
        "\n",
        "model = models.Sequential()\n",
        "\n",
        "model.add(layers.Dense(1024, activation = 'relu', kernel_regularizer = regularizers.l2(0.001), input_shape = (320*240,))) \n",
        "model.add(layers.Dropout(0.2))\n",
        "model.add(layers.Dense(256, activation = 'relu', kernel_regularizer = regularizers.l2(0.001) ))\n",
        "model.add(layers.Dropout(0.2))\n",
        "model.add(layers.Dense(32, activation = 'relu', kernel_regularizer = regularizers.l2(0.001)))\n",
        "model.add(layers.Dropout(0.2))\n",
        "model.add(layers.Dense(5, activation = 'softmax'))\n",
        "\n",
        "model.compile(optimizer = 'rmsprop',\n",
        "               loss = 'categorical_crossentropy',\n",
        "               metrics = ['accuracy'])\n",
        "\n",
        "model.fit(train_data, train_labels, epochs = 3, batch_size = 32 , verbose = 0)\n",
        "\n",
        "model.evaluate(test_data, test_labels)"
      ],
      "execution_count": 36,
      "outputs": [
        {
          "output_type": "stream",
          "text": [
            "55/55 [==============================] - 10s 184ms/step - loss: 1.7072 - accuracy: 0.2358\n"
          ],
          "name": "stdout"
        },
        {
          "output_type": "execute_result",
          "data": {
            "text/plain": [
              "[1.7071561813354492, 0.2358381450176239]"
            ]
          },
          "metadata": {
            "tags": []
          },
          "execution_count": 36
        }
      ]
    },
    {
      "cell_type": "code",
      "metadata": {
        "colab": {
          "base_uri": "https://localhost:8080/"
        },
        "id": "nsMLZbBMlTIn",
        "outputId": "81179a4b-17ea-4ebe-d249-2a7838ca53f3"
      },
      "source": [
        "model.predict(test_data)"
      ],
      "execution_count": 37,
      "outputs": [
        {
          "output_type": "execute_result",
          "data": {
            "text/plain": [
              "array([[0.18857582, 0.22212087, 0.18938379, 0.18693916, 0.21298034],\n",
              "       [0.18857582, 0.22212087, 0.18938379, 0.18693916, 0.21298034],\n",
              "       [0.18857582, 0.22212087, 0.18938379, 0.18693916, 0.21298034],\n",
              "       ...,\n",
              "       [0.18857582, 0.22212087, 0.18938379, 0.18693916, 0.21298034],\n",
              "       [0.18857582, 0.22212087, 0.18938379, 0.18693916, 0.21298034],\n",
              "       [0.18857582, 0.22212087, 0.18938379, 0.18693916, 0.21298034]],\n",
              "      dtype=float32)"
            ]
          },
          "metadata": {
            "tags": []
          },
          "execution_count": 37
        }
      ]
    }
  ]
}