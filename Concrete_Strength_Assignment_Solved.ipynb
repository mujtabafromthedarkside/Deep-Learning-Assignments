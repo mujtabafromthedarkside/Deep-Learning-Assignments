{
  "nbformat": 4,
  "nbformat_minor": 0,
  "metadata": {
    "kernelspec": {
      "display_name": "Python 3",
      "language": "python",
      "name": "python3"
    },
    "language_info": {
      "codemirror_mode": {
        "name": "ipython",
        "version": 3
      },
      "file_extension": ".py",
      "mimetype": "text/x-python",
      "name": "python",
      "nbconvert_exporter": "python",
      "pygments_lexer": "ipython3",
      "version": "3.7.3"
    },
    "colab": {
      "name": "Concrete Strength Assignment Solved.ipynb",
      "provenance": [],
      "collapsed_sections": []
    }
  },
  "cells": [
    {
      "cell_type": "markdown",
      "metadata": {
        "id": "0g3AcHpNstuX"
      },
      "source": [
        "# Assignment: Compresive Strength Concrete Problem\n",
        "\n",
        "\n",
        "### Abstract: \n",
        "\n",
        "Concrete is the most important material in civil engineering. The concrete compressive strength (concrete strength to bear the load) is a highly nonlinear function of age and ingredients.  <br><br>\n",
        "\n",
        "<table border=\"1\"  cellpadding=\"6\" bordercolor=\"red\">\n",
        "\t<tbody>\n",
        "        <tr>\n",
        "\t\t<td bgcolor=\"#DDEEFF\"><p class=\"normal\"><b>Data Set Characteristics:&nbsp;&nbsp;</b></p></td>\n",
        "\t\t<td><p class=\"normal\">Multivariate</p></td>\n",
        "\t\t<td bgcolor=\"#DDEEFF\"><p class=\"normal\"><b>Number of Instances:</b></p></td>\n",
        "\t\t<td><p class=\"normal\">1030</p></td>\n",
        "\t\t<td bgcolor=\"#DDEEFF\"><p class=\"normal\"><b>Area:</b></p></td>\n",
        "\t\t<td><p class=\"normal\">Physical</p></td>\n",
        "        </tr>\n",
        "     </tbody>\n",
        "    </table>\n",
        "<table border=\"1\" cellpadding=\"6\">\n",
        "    <tbody>\n",
        "        <tr>\n",
        "            <td bgcolor=\"#DDEEFF\"><p class=\"normal\"><b>Attribute Characteristics:</b></p></td>\n",
        "            <td><p class=\"normal\">Real</p></td>\n",
        "            <td bgcolor=\"#DDEEFF\"><p class=\"normal\"><b>Number of Attributes:</b></p></td>\n",
        "            <td><p class=\"normal\">9</p></td>\n",
        "            <td bgcolor=\"#DDEEFF\"><p class=\"normal\"><b>Date Donated</b></p></td>\n",
        "            <td><p class=\"normal\">2007-08-03</p></td>\n",
        "        </tr>\n",
        "     </tbody>\n",
        "    </table>\n",
        "<table border=\"1\" cellpadding=\"6\">\t\n",
        "    <tbody>\n",
        "    <tr>\n",
        "\t\t<td bgcolor=\"#DDEEFF\"><p class=\"normal\"><b>Associated Tasks:</b></p></td>\n",
        "\t\t<td><p class=\"normal\">Regression</p></td>\n",
        "\t\t<td bgcolor=\"#DDEEFF\"><p class=\"normal\"><b>Missing Values?</b></p></td>\n",
        "\t\t<td><p class=\"normal\">N/A</p></td>\n",
        "\t\t<td bgcolor=\"#DDEEFF\"><p class=\"normal\"><b>Number of Web Hits:</b></p></td>\n",
        "\t\t<td><p class=\"normal\">231464</p></td>\n",
        "\t</tr>\n",
        "    </tbody>\n",
        "    </table>"
      ]
    },
    {
      "cell_type": "markdown",
      "metadata": {
        "id": "s9sRPk8Kstud"
      },
      "source": [
        "###  Description:\n",
        "| Features Name | Data Type | Measurement | Description |\n",
        "| -- | -- | -- | -- |\n",
        "Cement (component 1) | quantitative | kg in a m3 mixture | Input Variable\n",
        "Blast Furnace Slag (component 2) | quantitative | kg in a m3 mixture | Input Variable\n",
        "Fly Ash (component 3) | quantitative | kg in a m3 mixture | Input Variable\n",
        "Water (component 4) | quantitative | kg in a m3 mixture | Input Variable\n",
        "Superplasticizer (component 5) | quantitative | kg in a m3 mixture | Input Variable\n",
        "Coarse Aggregate (component 6) | quantitative | kg in a m3 mixture | Input Variable\n",
        "Fine Aggregate (component 7) | quantitative | kg in a m3 mixture | Input Variable\n",
        "Age | quantitative | Day (1~365) | Input Variable\n",
        "Concrete compressive strength | quantitative | MPa | Output Variable\n",
        "\n",
        "### WORKFLOW :\n",
        "- Load Data\n",
        "- Check Missing Values ( If Exist ; Fill each record with mean of its feature )\n",
        "- Standardized the Input Variables. **Hint**: Centeralized the data\n",
        "- Split into 50% Training(Samples,Labels) , 30% Test(Samples,Labels) and 20% Validation Data(Samples,Labels).\n",
        "- Model : input Layer (No. of features ), 3 hidden layers including 10,8,6 unit & Output Layer with activation function relu/tanh (check by experiment).\n",
        "- Compilation Step (Note : Its a Regression problem , select loss , metrics according to it)\n",
        "- Train the Model with Epochs (100) and validate it\n",
        "- If the model gets overfit tune your model by changing the units , No. of layers , activation function , epochs , add dropout layer or add Regularizer according to the need .\n",
        "- Evaluation Step\n",
        "- Prediction\n"
      ]
    },
    {
      "cell_type": "markdown",
      "metadata": {
        "id": "QbnWZUZastug"
      },
      "source": [
        "# Load Data:\n",
        "[Click Here to Download DataSet](https://github.com/ramsha275/ML_Datasets/blob/main/compresive_strength_concrete.csv)"
      ]
    },
    {
      "cell_type": "code",
      "metadata": {
        "id": "SP-uxIYEstuh"
      },
      "source": [
        ""
      ],
      "execution_count": null,
      "outputs": []
    },
    {
      "cell_type": "code",
      "metadata": {
        "colab": {
          "resources": {
            "http://localhost:8080/nbextensions/google.colab/files.js": {
              "data": "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",
              "ok": true,
              "headers": [
                [
                  "content-type",
                  "application/javascript"
                ]
              ],
              "status": 200,
              "status_text": ""
            }
          },
          "base_uri": "https://localhost:8080/",
          "height": 72
        },
        "id": "yz3Uwjy2s8sF",
        "outputId": "5e4ecadf-f59b-4357-9b77-97430298c847"
      },
      "source": [
        "from google.colab import files \n",
        "\n",
        "uploaded = files.upload()"
      ],
      "execution_count": 3,
      "outputs": [
        {
          "output_type": "display_data",
          "data": {
            "text/html": [
              "\n",
              "     <input type=\"file\" id=\"files-ddce90c5-9433-4c7c-a45a-8ac3f1908341\" name=\"files[]\" multiple disabled\n",
              "        style=\"border:none\" />\n",
              "     <output id=\"result-ddce90c5-9433-4c7c-a45a-8ac3f1908341\">\n",
              "      Upload widget is only available when the cell has been executed in the\n",
              "      current browser session. Please rerun this cell to enable.\n",
              "      </output>\n",
              "      <script src=\"/nbextensions/google.colab/files.js\"></script> "
            ],
            "text/plain": [
              "<IPython.core.display.HTML object>"
            ]
          },
          "metadata": {
            "tags": []
          }
        },
        {
          "output_type": "stream",
          "text": [
            "Saving compresive_strength_concrete.csv to compresive_strength_concrete.csv\n"
          ],
          "name": "stdout"
        }
      ]
    },
    {
      "cell_type": "code",
      "metadata": {
        "colab": {
          "base_uri": "https://localhost:8080/",
          "height": 328
        },
        "id": "ukzdCP2-tmIT",
        "outputId": "10dbf34c-6961-419b-d8e8-a2c70e09038c"
      },
      "source": [
        "import pandas as pd\n",
        "import numpy as np\n",
        "\n",
        "dataframe = pd.read_csv('compresive_strength_concrete.csv')\n",
        "\n",
        "dataframe.head().T"
      ],
      "execution_count": 4,
      "outputs": [
        {
          "output_type": "execute_result",
          "data": {
            "text/html": [
              "<div>\n",
              "<style scoped>\n",
              "    .dataframe tbody tr th:only-of-type {\n",
              "        vertical-align: middle;\n",
              "    }\n",
              "\n",
              "    .dataframe tbody tr th {\n",
              "        vertical-align: top;\n",
              "    }\n",
              "\n",
              "    .dataframe thead th {\n",
              "        text-align: right;\n",
              "    }\n",
              "</style>\n",
              "<table border=\"1\" class=\"dataframe\">\n",
              "  <thead>\n",
              "    <tr style=\"text-align: right;\">\n",
              "      <th></th>\n",
              "      <th>0</th>\n",
              "      <th>1</th>\n",
              "      <th>2</th>\n",
              "      <th>3</th>\n",
              "      <th>4</th>\n",
              "    </tr>\n",
              "  </thead>\n",
              "  <tbody>\n",
              "    <tr>\n",
              "      <th>Cement (component 1)(kg in a m^3 mixture)</th>\n",
              "      <td>540.00</td>\n",
              "      <td>540.00</td>\n",
              "      <td>332.50</td>\n",
              "      <td>332.50</td>\n",
              "      <td>198.6</td>\n",
              "    </tr>\n",
              "    <tr>\n",
              "      <th>Blast Furnace Slag (component 2)(kg in a m^3 mixture)</th>\n",
              "      <td>0.00</td>\n",
              "      <td>0.00</td>\n",
              "      <td>142.50</td>\n",
              "      <td>142.50</td>\n",
              "      <td>132.4</td>\n",
              "    </tr>\n",
              "    <tr>\n",
              "      <th>Fly Ash (component 3)(kg in a m^3 mixture)</th>\n",
              "      <td>0.00</td>\n",
              "      <td>0.00</td>\n",
              "      <td>0.00</td>\n",
              "      <td>0.00</td>\n",
              "      <td>0.0</td>\n",
              "    </tr>\n",
              "    <tr>\n",
              "      <th>Water  (component 4)(kg in a m^3 mixture)</th>\n",
              "      <td>162.00</td>\n",
              "      <td>162.00</td>\n",
              "      <td>228.00</td>\n",
              "      <td>228.00</td>\n",
              "      <td>192.0</td>\n",
              "    </tr>\n",
              "    <tr>\n",
              "      <th>Superplasticizer (component 5)(kg in a m^3 mixture)</th>\n",
              "      <td>2.50</td>\n",
              "      <td>2.50</td>\n",
              "      <td>0.00</td>\n",
              "      <td>0.00</td>\n",
              "      <td>0.0</td>\n",
              "    </tr>\n",
              "    <tr>\n",
              "      <th>Coarse Aggregate  (component 6)(kg in a m^3 mixture)</th>\n",
              "      <td>1040.00</td>\n",
              "      <td>1055.00</td>\n",
              "      <td>932.00</td>\n",
              "      <td>932.00</td>\n",
              "      <td>978.4</td>\n",
              "    </tr>\n",
              "    <tr>\n",
              "      <th>Fine Aggregate (component 7)(kg in a m^3 mixture)</th>\n",
              "      <td>676.00</td>\n",
              "      <td>676.00</td>\n",
              "      <td>594.00</td>\n",
              "      <td>594.00</td>\n",
              "      <td>825.5</td>\n",
              "    </tr>\n",
              "    <tr>\n",
              "      <th>Age (day)</th>\n",
              "      <td>28.00</td>\n",
              "      <td>28.00</td>\n",
              "      <td>270.00</td>\n",
              "      <td>365.00</td>\n",
              "      <td>360.0</td>\n",
              "    </tr>\n",
              "    <tr>\n",
              "      <th>Concrete compressive strength(MPa, megapascals)</th>\n",
              "      <td>79.99</td>\n",
              "      <td>61.89</td>\n",
              "      <td>40.27</td>\n",
              "      <td>41.05</td>\n",
              "      <td>44.3</td>\n",
              "    </tr>\n",
              "  </tbody>\n",
              "</table>\n",
              "</div>"
            ],
            "text/plain": [
              "                                                          0  ...      4\n",
              "Cement (component 1)(kg in a m^3 mixture)            540.00  ...  198.6\n",
              "Blast Furnace Slag (component 2)(kg in a m^3 mi...     0.00  ...  132.4\n",
              "Fly Ash (component 3)(kg in a m^3 mixture)             0.00  ...    0.0\n",
              "Water  (component 4)(kg in a m^3 mixture)            162.00  ...  192.0\n",
              "Superplasticizer (component 5)(kg in a m^3 mixt...     2.50  ...    0.0\n",
              "Coarse Aggregate  (component 6)(kg in a m^3 mix...  1040.00  ...  978.4\n",
              "Fine Aggregate (component 7)(kg in a m^3 mixture)    676.00  ...  825.5\n",
              "Age (day)                                             28.00  ...  360.0\n",
              "Concrete compressive strength(MPa, megapascals)       79.99  ...   44.3\n",
              "\n",
              "[9 rows x 5 columns]"
            ]
          },
          "metadata": {
            "tags": []
          },
          "execution_count": 4
        }
      ]
    },
    {
      "cell_type": "code",
      "metadata": {
        "colab": {
          "base_uri": "https://localhost:8080/"
        },
        "id": "CitNQsxytyJu",
        "outputId": "cafe6468-d180-4b39-a8d6-5e7268942049"
      },
      "source": [
        "dataframe.isnull().any()"
      ],
      "execution_count": 5,
      "outputs": [
        {
          "output_type": "execute_result",
          "data": {
            "text/plain": [
              "Cement (component 1)(kg in a m^3 mixture)                False\n",
              "Blast Furnace Slag (component 2)(kg in a m^3 mixture)    False\n",
              "Fly Ash (component 3)(kg in a m^3 mixture)               False\n",
              "Water  (component 4)(kg in a m^3 mixture)                False\n",
              "Superplasticizer (component 5)(kg in a m^3 mixture)      False\n",
              "Coarse Aggregate  (component 6)(kg in a m^3 mixture)     False\n",
              "Fine Aggregate (component 7)(kg in a m^3 mixture)        False\n",
              "Age (day)                                                False\n",
              "Concrete compressive strength(MPa, megapascals)          False\n",
              "dtype: bool"
            ]
          },
          "metadata": {
            "tags": []
          },
          "execution_count": 5
        }
      ]
    },
    {
      "cell_type": "code",
      "metadata": {
        "colab": {
          "base_uri": "https://localhost:8080/"
        },
        "id": "tXASDNEMuv-D",
        "outputId": "9f1d7725-a73c-44d2-b9f8-db5ec1341f05"
      },
      "source": [
        "dataframe.shape"
      ],
      "execution_count": 6,
      "outputs": [
        {
          "output_type": "execute_result",
          "data": {
            "text/plain": [
              "(1030, 9)"
            ]
          },
          "metadata": {
            "tags": []
          },
          "execution_count": 6
        }
      ]
    },
    {
      "cell_type": "code",
      "metadata": {
        "id": "BZZMwkTBv5_T"
      },
      "source": [
        "dataframe_shuffled = pd.DataFrame(np.random.permutation(dataframe) , columns = dataframe.columns)"
      ],
      "execution_count": 7,
      "outputs": []
    },
    {
      "cell_type": "code",
      "metadata": {
        "colab": {
          "base_uri": "https://localhost:8080/"
        },
        "id": "niIthjKKt_vE",
        "outputId": "c1c6c55e-6a83-4d16-929d-5b3661e50d17"
      },
      "source": [
        "target_values = dataframe_shuffled.iloc[:,-1].copy()\n",
        "target_values"
      ],
      "execution_count": 8,
      "outputs": [
        {
          "output_type": "execute_result",
          "data": {
            "text/plain": [
              "0       47.82\n",
              "1       67.57\n",
              "2       52.52\n",
              "3       28.94\n",
              "4       55.65\n",
              "        ...  \n",
              "1025     9.31\n",
              "1026    41.68\n",
              "1027    52.45\n",
              "1028    13.12\n",
              "1029    19.69\n",
              "Name: Concrete compressive strength(MPa, megapascals) , Length: 1030, dtype: float64"
            ]
          },
          "metadata": {
            "tags": []
          },
          "execution_count": 8
        }
      ]
    },
    {
      "cell_type": "code",
      "metadata": {
        "id": "F7fDxcBHutq1"
      },
      "source": [
        "data = dataframe_shuffled.drop(dataframe.columns[-1], axis = 1).copy()"
      ],
      "execution_count": 9,
      "outputs": []
    },
    {
      "cell_type": "code",
      "metadata": {
        "colab": {
          "base_uri": "https://localhost:8080/",
          "height": 470
        },
        "id": "jr-TmaZiu5VE",
        "outputId": "436ddf70-54de-4408-9b02-7f053e662fbf"
      },
      "source": [
        "data "
      ],
      "execution_count": 10,
      "outputs": [
        {
          "output_type": "execute_result",
          "data": {
            "text/html": [
              "<div>\n",
              "<style scoped>\n",
              "    .dataframe tbody tr th:only-of-type {\n",
              "        vertical-align: middle;\n",
              "    }\n",
              "\n",
              "    .dataframe tbody tr th {\n",
              "        vertical-align: top;\n",
              "    }\n",
              "\n",
              "    .dataframe thead th {\n",
              "        text-align: right;\n",
              "    }\n",
              "</style>\n",
              "<table border=\"1\" class=\"dataframe\">\n",
              "  <thead>\n",
              "    <tr style=\"text-align: right;\">\n",
              "      <th></th>\n",
              "      <th>Cement (component 1)(kg in a m^3 mixture)</th>\n",
              "      <th>Blast Furnace Slag (component 2)(kg in a m^3 mixture)</th>\n",
              "      <th>Fly Ash (component 3)(kg in a m^3 mixture)</th>\n",
              "      <th>Water  (component 4)(kg in a m^3 mixture)</th>\n",
              "      <th>Superplasticizer (component 5)(kg in a m^3 mixture)</th>\n",
              "      <th>Coarse Aggregate  (component 6)(kg in a m^3 mixture)</th>\n",
              "      <th>Fine Aggregate (component 7)(kg in a m^3 mixture)</th>\n",
              "      <th>Age (day)</th>\n",
              "    </tr>\n",
              "  </thead>\n",
              "  <tbody>\n",
              "    <tr>\n",
              "      <th>0</th>\n",
              "      <td>212.0</td>\n",
              "      <td>0.0</td>\n",
              "      <td>124.8</td>\n",
              "      <td>159.0</td>\n",
              "      <td>7.8</td>\n",
              "      <td>1085.4</td>\n",
              "      <td>799.5</td>\n",
              "      <td>100.0</td>\n",
              "    </tr>\n",
              "    <tr>\n",
              "      <th>1</th>\n",
              "      <td>500.0</td>\n",
              "      <td>0.0</td>\n",
              "      <td>0.0</td>\n",
              "      <td>140.0</td>\n",
              "      <td>4.0</td>\n",
              "      <td>966.0</td>\n",
              "      <td>853.0</td>\n",
              "      <td>28.0</td>\n",
              "    </tr>\n",
              "    <tr>\n",
              "      <th>2</th>\n",
              "      <td>380.0</td>\n",
              "      <td>0.0</td>\n",
              "      <td>0.0</td>\n",
              "      <td>228.0</td>\n",
              "      <td>0.0</td>\n",
              "      <td>932.0</td>\n",
              "      <td>670.0</td>\n",
              "      <td>365.0</td>\n",
              "    </tr>\n",
              "    <tr>\n",
              "      <th>3</th>\n",
              "      <td>133.1</td>\n",
              "      <td>210.2</td>\n",
              "      <td>0.0</td>\n",
              "      <td>195.7</td>\n",
              "      <td>3.1</td>\n",
              "      <td>949.4</td>\n",
              "      <td>795.3</td>\n",
              "      <td>28.0</td>\n",
              "    </tr>\n",
              "    <tr>\n",
              "      <th>4</th>\n",
              "      <td>397.0</td>\n",
              "      <td>17.2</td>\n",
              "      <td>158.0</td>\n",
              "      <td>167.0</td>\n",
              "      <td>20.8</td>\n",
              "      <td>967.0</td>\n",
              "      <td>633.0</td>\n",
              "      <td>28.0</td>\n",
              "    </tr>\n",
              "    <tr>\n",
              "      <th>...</th>\n",
              "      <td>...</td>\n",
              "      <td>...</td>\n",
              "      <td>...</td>\n",
              "      <td>...</td>\n",
              "      <td>...</td>\n",
              "      <td>...</td>\n",
              "      <td>...</td>\n",
              "      <td>...</td>\n",
              "    </tr>\n",
              "    <tr>\n",
              "      <th>1025</th>\n",
              "      <td>254.0</td>\n",
              "      <td>0.0</td>\n",
              "      <td>0.0</td>\n",
              "      <td>198.0</td>\n",
              "      <td>0.0</td>\n",
              "      <td>968.0</td>\n",
              "      <td>863.0</td>\n",
              "      <td>3.0</td>\n",
              "    </tr>\n",
              "    <tr>\n",
              "      <th>1026</th>\n",
              "      <td>203.5</td>\n",
              "      <td>305.3</td>\n",
              "      <td>0.0</td>\n",
              "      <td>203.5</td>\n",
              "      <td>0.0</td>\n",
              "      <td>963.4</td>\n",
              "      <td>630.0</td>\n",
              "      <td>28.0</td>\n",
              "    </tr>\n",
              "    <tr>\n",
              "      <th>1027</th>\n",
              "      <td>312.9</td>\n",
              "      <td>160.5</td>\n",
              "      <td>0.0</td>\n",
              "      <td>177.6</td>\n",
              "      <td>9.6</td>\n",
              "      <td>916.6</td>\n",
              "      <td>759.5</td>\n",
              "      <td>28.0</td>\n",
              "    </tr>\n",
              "    <tr>\n",
              "      <th>1028</th>\n",
              "      <td>251.4</td>\n",
              "      <td>0.0</td>\n",
              "      <td>118.3</td>\n",
              "      <td>188.5</td>\n",
              "      <td>6.4</td>\n",
              "      <td>1028.4</td>\n",
              "      <td>757.7</td>\n",
              "      <td>3.0</td>\n",
              "    </tr>\n",
              "    <tr>\n",
              "      <th>1029</th>\n",
              "      <td>252.0</td>\n",
              "      <td>0.0</td>\n",
              "      <td>0.0</td>\n",
              "      <td>185.0</td>\n",
              "      <td>0.0</td>\n",
              "      <td>1111.0</td>\n",
              "      <td>784.0</td>\n",
              "      <td>28.0</td>\n",
              "    </tr>\n",
              "  </tbody>\n",
              "</table>\n",
              "<p>1030 rows × 8 columns</p>\n",
              "</div>"
            ],
            "text/plain": [
              "      Cement (component 1)(kg in a m^3 mixture)  ...  Age (day)\n",
              "0                                         212.0  ...      100.0\n",
              "1                                         500.0  ...       28.0\n",
              "2                                         380.0  ...      365.0\n",
              "3                                         133.1  ...       28.0\n",
              "4                                         397.0  ...       28.0\n",
              "...                                         ...  ...        ...\n",
              "1025                                      254.0  ...        3.0\n",
              "1026                                      203.5  ...       28.0\n",
              "1027                                      312.9  ...       28.0\n",
              "1028                                      251.4  ...        3.0\n",
              "1029                                      252.0  ...       28.0\n",
              "\n",
              "[1030 rows x 8 columns]"
            ]
          },
          "metadata": {
            "tags": []
          },
          "execution_count": 10
        }
      ]
    },
    {
      "cell_type": "code",
      "metadata": {
        "id": "GzcNlDWxvF4y"
      },
      "source": [
        "train_len = len(dataframe)*7//10\n",
        "test_len = len(dataframe) - train_len"
      ],
      "execution_count": 11,
      "outputs": []
    },
    {
      "cell_type": "code",
      "metadata": {
        "id": "WjGKU53FvgOF"
      },
      "source": [
        "train_data = data[0 : train_len].copy()\n",
        "test_data = data[train_len : train_len + test_len].copy()"
      ],
      "execution_count": 12,
      "outputs": []
    },
    {
      "cell_type": "code",
      "metadata": {
        "id": "SZf20pa0wOUq"
      },
      "source": [
        "train_values = target_values[0 : train_len].copy()\n",
        "test_values = target_values[train_len : train_len + test_len].copy()"
      ],
      "execution_count": 13,
      "outputs": []
    },
    {
      "cell_type": "code",
      "metadata": {
        "colab": {
          "base_uri": "https://localhost:8080/",
          "height": 238
        },
        "id": "OthuvITdxcyB",
        "outputId": "fa687829-9e0a-4e46-e099-8b19bdaf76e0"
      },
      "source": [
        "train_data.head()"
      ],
      "execution_count": 14,
      "outputs": [
        {
          "output_type": "execute_result",
          "data": {
            "text/html": [
              "<div>\n",
              "<style scoped>\n",
              "    .dataframe tbody tr th:only-of-type {\n",
              "        vertical-align: middle;\n",
              "    }\n",
              "\n",
              "    .dataframe tbody tr th {\n",
              "        vertical-align: top;\n",
              "    }\n",
              "\n",
              "    .dataframe thead th {\n",
              "        text-align: right;\n",
              "    }\n",
              "</style>\n",
              "<table border=\"1\" class=\"dataframe\">\n",
              "  <thead>\n",
              "    <tr style=\"text-align: right;\">\n",
              "      <th></th>\n",
              "      <th>Cement (component 1)(kg in a m^3 mixture)</th>\n",
              "      <th>Blast Furnace Slag (component 2)(kg in a m^3 mixture)</th>\n",
              "      <th>Fly Ash (component 3)(kg in a m^3 mixture)</th>\n",
              "      <th>Water  (component 4)(kg in a m^3 mixture)</th>\n",
              "      <th>Superplasticizer (component 5)(kg in a m^3 mixture)</th>\n",
              "      <th>Coarse Aggregate  (component 6)(kg in a m^3 mixture)</th>\n",
              "      <th>Fine Aggregate (component 7)(kg in a m^3 mixture)</th>\n",
              "      <th>Age (day)</th>\n",
              "    </tr>\n",
              "  </thead>\n",
              "  <tbody>\n",
              "    <tr>\n",
              "      <th>0</th>\n",
              "      <td>212.0</td>\n",
              "      <td>0.0</td>\n",
              "      <td>124.8</td>\n",
              "      <td>159.0</td>\n",
              "      <td>7.8</td>\n",
              "      <td>1085.4</td>\n",
              "      <td>799.5</td>\n",
              "      <td>100.0</td>\n",
              "    </tr>\n",
              "    <tr>\n",
              "      <th>1</th>\n",
              "      <td>500.0</td>\n",
              "      <td>0.0</td>\n",
              "      <td>0.0</td>\n",
              "      <td>140.0</td>\n",
              "      <td>4.0</td>\n",
              "      <td>966.0</td>\n",
              "      <td>853.0</td>\n",
              "      <td>28.0</td>\n",
              "    </tr>\n",
              "    <tr>\n",
              "      <th>2</th>\n",
              "      <td>380.0</td>\n",
              "      <td>0.0</td>\n",
              "      <td>0.0</td>\n",
              "      <td>228.0</td>\n",
              "      <td>0.0</td>\n",
              "      <td>932.0</td>\n",
              "      <td>670.0</td>\n",
              "      <td>365.0</td>\n",
              "    </tr>\n",
              "    <tr>\n",
              "      <th>3</th>\n",
              "      <td>133.1</td>\n",
              "      <td>210.2</td>\n",
              "      <td>0.0</td>\n",
              "      <td>195.7</td>\n",
              "      <td>3.1</td>\n",
              "      <td>949.4</td>\n",
              "      <td>795.3</td>\n",
              "      <td>28.0</td>\n",
              "    </tr>\n",
              "    <tr>\n",
              "      <th>4</th>\n",
              "      <td>397.0</td>\n",
              "      <td>17.2</td>\n",
              "      <td>158.0</td>\n",
              "      <td>167.0</td>\n",
              "      <td>20.8</td>\n",
              "      <td>967.0</td>\n",
              "      <td>633.0</td>\n",
              "      <td>28.0</td>\n",
              "    </tr>\n",
              "  </tbody>\n",
              "</table>\n",
              "</div>"
            ],
            "text/plain": [
              "   Cement (component 1)(kg in a m^3 mixture)  ...  Age (day)\n",
              "0                                      212.0  ...      100.0\n",
              "1                                      500.0  ...       28.0\n",
              "2                                      380.0  ...      365.0\n",
              "3                                      133.1  ...       28.0\n",
              "4                                      397.0  ...       28.0\n",
              "\n",
              "[5 rows x 8 columns]"
            ]
          },
          "metadata": {
            "tags": []
          },
          "execution_count": 14
        }
      ]
    },
    {
      "cell_type": "code",
      "metadata": {
        "id": "w31YLGmFwv47"
      },
      "source": [
        "mean = np.mean(train_data, axis = 0)\n",
        "std = np.std(train_data, axis = 0)\n",
        "\n",
        "train_data -= mean\n",
        "train_data /= std\n",
        "\n",
        "test_data -= mean\n",
        "test_data /= std"
      ],
      "execution_count": 15,
      "outputs": []
    },
    {
      "cell_type": "code",
      "metadata": {
        "colab": {
          "base_uri": "https://localhost:8080/"
        },
        "id": "-wmMYL-hwzCr",
        "outputId": "5a7b03ae-a487-4d6b-9887-5280056a7aa6"
      },
      "source": [
        "train_values"
      ],
      "execution_count": 16,
      "outputs": [
        {
          "output_type": "execute_result",
          "data": {
            "text/plain": [
              "0      47.82\n",
              "1      67.57\n",
              "2      52.52\n",
              "3      28.94\n",
              "4      55.65\n",
              "       ...  \n",
              "716    17.95\n",
              "717    72.30\n",
              "718    24.28\n",
              "719    40.39\n",
              "720    19.42\n",
              "Name: Concrete compressive strength(MPa, megapascals) , Length: 721, dtype: float64"
            ]
          },
          "metadata": {
            "tags": []
          },
          "execution_count": 16
        }
      ]
    },
    {
      "cell_type": "code",
      "metadata": {
        "id": "0IZp4YtfzJ2t"
      },
      "source": [
        "train_data = np.array(train_data).astype('float32')\n",
        "train_values = np.array(train_values).astype('float32')"
      ],
      "execution_count": 17,
      "outputs": []
    },
    {
      "cell_type": "code",
      "metadata": {
        "id": "1oh9MhC9zk_m"
      },
      "source": [
        "test_data = np.array(test_data).astype('float32')\n",
        "test_values = np.array(test_values).astype('float32')"
      ],
      "execution_count": 18,
      "outputs": []
    },
    {
      "cell_type": "code",
      "metadata": {
        "id": "XSqTA4Kaxg_J"
      },
      "source": [
        "len_partial_train = len(dataframe)*5//10\n",
        "len_validation = train_len - len_partial_train"
      ],
      "execution_count": 19,
      "outputs": []
    },
    {
      "cell_type": "code",
      "metadata": {
        "id": "WwYkKSPKyBXA"
      },
      "source": [
        "partial_train_data = train_data[0 : len_partial_train].copy()\n",
        "val_data = train_data[len_partial_train : ].copy()"
      ],
      "execution_count": 20,
      "outputs": []
    },
    {
      "cell_type": "code",
      "metadata": {
        "id": "sQNNPfa6yrSk"
      },
      "source": [
        "partial_train_values = train_values[0 : len_partial_train].copy()\n",
        "val_values = train_values[len_partial_train : ].copy()"
      ],
      "execution_count": 21,
      "outputs": []
    },
    {
      "cell_type": "code",
      "metadata": {
        "colab": {
          "base_uri": "https://localhost:8080/"
        },
        "id": "PcummQYI5bM7",
        "outputId": "a8d6f0c6-97f1-4869-9c5c-246d76913266"
      },
      "source": [
        "train_data.shape"
      ],
      "execution_count": 22,
      "outputs": [
        {
          "output_type": "execute_result",
          "data": {
            "text/plain": [
              "(721, 8)"
            ]
          },
          "metadata": {
            "tags": []
          },
          "execution_count": 22
        }
      ]
    },
    {
      "cell_type": "code",
      "metadata": {
        "id": "rtLpK-PFbceh"
      },
      "source": [
        "from keras import models, layers, regularizers\n",
        "\n",
        "input_tensor = layers.Input(shape = (train_data.shape[-1],))\n",
        "p = layers.Dense(64, activation = 'relu') (input_tensor)\n",
        "\n",
        "q = layers.Dense(32, activation = 'relu') (p)\n",
        "\n",
        "r = layers.Dense(16, activation = 'relu') (q)\n",
        "\n",
        "s = layers.Dense(8, activation = 'relu') (r)\n",
        "\n",
        "output_tensor = layers.Dense(1) (s)\n",
        "\n",
        "\n",
        "\n",
        "modelCo2 = models.Model(inputs = input_tensor, outputs = output_tensor)"
      ],
      "execution_count": 23,
      "outputs": []
    },
    {
      "cell_type": "code",
      "metadata": {
        "id": "9qLNTrIXeOxA"
      },
      "source": [
        "modelCo2.compile(optimizer = 'rmsprop',\n",
        "                 loss = 'mse',\n",
        "                 metrics = ['mae'])"
      ],
      "execution_count": 24,
      "outputs": []
    },
    {
      "cell_type": "code",
      "metadata": {
        "colab": {
          "base_uri": "https://localhost:8080/"
        },
        "id": "E1s5jQpqeO2T",
        "outputId": "bca62007-f7df-43ad-a033-7aca9904fb9d"
      },
      "source": [
        "modelCo2.fit(partial_train_data,\n",
        "             partial_train_values,\n",
        "             epochs = 200,\n",
        "             batch_size = 16,\n",
        "             verbose = 1,\n",
        "             validation_data = (val_data, val_values))"
      ],
      "execution_count": 25,
      "outputs": [
        {
          "output_type": "stream",
          "text": [
            "Epoch 1/200\n",
            "33/33 [==============================] - 1s 14ms/step - loss: 1545.3812 - mae: 35.3735 - val_loss: 1292.6229 - val_mae: 31.9966\n",
            "Epoch 2/200\n",
            "33/33 [==============================] - 0s 3ms/step - loss: 1186.3969 - mae: 30.2531 - val_loss: 664.6374 - val_mae: 21.2223\n",
            "Epoch 3/200\n",
            "33/33 [==============================] - 0s 3ms/step - loss: 527.2058 - mae: 18.6541 - val_loss: 231.8777 - val_mae: 12.4322\n",
            "Epoch 4/200\n",
            "33/33 [==============================] - 0s 3ms/step - loss: 227.2761 - mae: 11.8901 - val_loss: 209.1786 - val_mae: 12.0570\n",
            "Epoch 5/200\n",
            "33/33 [==============================] - 0s 3ms/step - loss: 185.4218 - mae: 11.1436 - val_loss: 202.4384 - val_mae: 11.8744\n",
            "Epoch 6/200\n",
            "33/33 [==============================] - 0s 3ms/step - loss: 178.9076 - mae: 11.0901 - val_loss: 190.2447 - val_mae: 11.4403\n",
            "Epoch 7/200\n",
            "33/33 [==============================] - 0s 3ms/step - loss: 166.2806 - mae: 10.3247 - val_loss: 190.4453 - val_mae: 11.3765\n",
            "Epoch 8/200\n",
            "33/33 [==============================] - 0s 3ms/step - loss: 161.3192 - mae: 10.3877 - val_loss: 177.4061 - val_mae: 11.0698\n",
            "Epoch 9/200\n",
            "33/33 [==============================] - 0s 3ms/step - loss: 175.7306 - mae: 10.7889 - val_loss: 185.7017 - val_mae: 11.1428\n",
            "Epoch 10/200\n",
            "33/33 [==============================] - 0s 3ms/step - loss: 172.5540 - mae: 10.5374 - val_loss: 173.6824 - val_mae: 10.8718\n",
            "Epoch 11/200\n",
            "33/33 [==============================] - 0s 3ms/step - loss: 152.3965 - mae: 10.0795 - val_loss: 158.4971 - val_mae: 10.4551\n",
            "Epoch 12/200\n",
            "33/33 [==============================] - 0s 3ms/step - loss: 158.6128 - mae: 10.1557 - val_loss: 155.7909 - val_mae: 10.3473\n",
            "Epoch 13/200\n",
            "33/33 [==============================] - 0s 3ms/step - loss: 137.6160 - mae: 9.5685 - val_loss: 151.1640 - val_mae: 10.1863\n",
            "Epoch 14/200\n",
            "33/33 [==============================] - 0s 3ms/step - loss: 131.8079 - mae: 9.2217 - val_loss: 147.9945 - val_mae: 10.0757\n",
            "Epoch 15/200\n",
            "33/33 [==============================] - 0s 3ms/step - loss: 124.3128 - mae: 8.9390 - val_loss: 149.8866 - val_mae: 10.0554\n",
            "Epoch 16/200\n",
            "33/33 [==============================] - 0s 3ms/step - loss: 134.5011 - mae: 9.1470 - val_loss: 165.4792 - val_mae: 10.4003\n",
            "Epoch 17/200\n",
            "33/33 [==============================] - 0s 3ms/step - loss: 130.5033 - mae: 9.0306 - val_loss: 142.6142 - val_mae: 9.8571\n",
            "Epoch 18/200\n",
            "33/33 [==============================] - 0s 3ms/step - loss: 129.4428 - mae: 9.1630 - val_loss: 140.6353 - val_mae: 9.7853\n",
            "Epoch 19/200\n",
            "33/33 [==============================] - 0s 3ms/step - loss: 121.7618 - mae: 8.8677 - val_loss: 132.9064 - val_mae: 9.5170\n",
            "Epoch 20/200\n",
            "33/33 [==============================] - 0s 3ms/step - loss: 122.1108 - mae: 9.1669 - val_loss: 133.2258 - val_mae: 9.5994\n",
            "Epoch 21/200\n",
            "33/33 [==============================] - 0s 3ms/step - loss: 123.3846 - mae: 8.8927 - val_loss: 128.3915 - val_mae: 9.2754\n",
            "Epoch 22/200\n",
            "33/33 [==============================] - 0s 3ms/step - loss: 115.9358 - mae: 8.6955 - val_loss: 122.7597 - val_mae: 9.0997\n",
            "Epoch 23/200\n",
            "33/33 [==============================] - 0s 3ms/step - loss: 120.9234 - mae: 8.9007 - val_loss: 120.2537 - val_mae: 9.0497\n",
            "Epoch 24/200\n",
            "33/33 [==============================] - 0s 3ms/step - loss: 112.4497 - mae: 8.3982 - val_loss: 118.4884 - val_mae: 8.9443\n",
            "Epoch 25/200\n",
            "33/33 [==============================] - 0s 3ms/step - loss: 113.5091 - mae: 8.5472 - val_loss: 126.9372 - val_mae: 9.1903\n",
            "Epoch 26/200\n",
            "33/33 [==============================] - 0s 3ms/step - loss: 107.9966 - mae: 8.3247 - val_loss: 113.6819 - val_mae: 8.8120\n",
            "Epoch 27/200\n",
            "33/33 [==============================] - 0s 3ms/step - loss: 111.7629 - mae: 8.6445 - val_loss: 112.5539 - val_mae: 8.6901\n",
            "Epoch 28/200\n",
            "33/33 [==============================] - 0s 3ms/step - loss: 99.6212 - mae: 7.9845 - val_loss: 114.4884 - val_mae: 8.7173\n",
            "Epoch 29/200\n",
            "33/33 [==============================] - 0s 3ms/step - loss: 100.6951 - mae: 7.9597 - val_loss: 103.1276 - val_mae: 8.3795\n",
            "Epoch 30/200\n",
            "33/33 [==============================] - 0s 3ms/step - loss: 90.9498 - mae: 7.5682 - val_loss: 103.4475 - val_mae: 8.2583\n",
            "Epoch 31/200\n",
            "33/33 [==============================] - 0s 3ms/step - loss: 89.7882 - mae: 7.5843 - val_loss: 96.8980 - val_mae: 7.9725\n",
            "Epoch 32/200\n",
            "33/33 [==============================] - 0s 3ms/step - loss: 86.5488 - mae: 7.4286 - val_loss: 99.3341 - val_mae: 8.1233\n",
            "Epoch 33/200\n",
            "33/33 [==============================] - 0s 3ms/step - loss: 77.6771 - mae: 7.0098 - val_loss: 92.1573 - val_mae: 7.7850\n",
            "Epoch 34/200\n",
            "33/33 [==============================] - 0s 3ms/step - loss: 74.9813 - mae: 6.8369 - val_loss: 88.7947 - val_mae: 7.5666\n",
            "Epoch 35/200\n",
            "33/33 [==============================] - 0s 3ms/step - loss: 74.5961 - mae: 6.7780 - val_loss: 93.7774 - val_mae: 7.7957\n",
            "Epoch 36/200\n",
            "33/33 [==============================] - 0s 3ms/step - loss: 79.9955 - mae: 7.0234 - val_loss: 83.6358 - val_mae: 7.3310\n",
            "Epoch 37/200\n",
            "33/33 [==============================] - 0s 3ms/step - loss: 77.0169 - mae: 6.9015 - val_loss: 80.7220 - val_mae: 7.1293\n",
            "Epoch 38/200\n",
            "33/33 [==============================] - 0s 3ms/step - loss: 72.7883 - mae: 6.5562 - val_loss: 81.9580 - val_mae: 7.2173\n",
            "Epoch 39/200\n",
            "33/33 [==============================] - 0s 3ms/step - loss: 63.7190 - mae: 6.2906 - val_loss: 74.4087 - val_mae: 6.8708\n",
            "Epoch 40/200\n",
            "33/33 [==============================] - 0s 3ms/step - loss: 64.8414 - mae: 6.2745 - val_loss: 73.2197 - val_mae: 6.8076\n",
            "Epoch 41/200\n",
            "33/33 [==============================] - 0s 3ms/step - loss: 70.9893 - mae: 6.5283 - val_loss: 69.8995 - val_mae: 6.6943\n",
            "Epoch 42/200\n",
            "33/33 [==============================] - 0s 3ms/step - loss: 72.1429 - mae: 6.5165 - val_loss: 68.9501 - val_mae: 6.5962\n",
            "Epoch 43/200\n",
            "33/33 [==============================] - 0s 3ms/step - loss: 60.6143 - mae: 5.9170 - val_loss: 69.9141 - val_mae: 6.6164\n",
            "Epoch 44/200\n",
            "33/33 [==============================] - 0s 3ms/step - loss: 62.5614 - mae: 6.0461 - val_loss: 64.3666 - val_mae: 6.3648\n",
            "Epoch 45/200\n",
            "33/33 [==============================] - 0s 3ms/step - loss: 59.2814 - mae: 5.8608 - val_loss: 62.6948 - val_mae: 6.2390\n",
            "Epoch 46/200\n",
            "33/33 [==============================] - 0s 3ms/step - loss: 48.0616 - mae: 5.3582 - val_loss: 72.9245 - val_mae: 6.6879\n",
            "Epoch 47/200\n",
            "33/33 [==============================] - 0s 3ms/step - loss: 58.4136 - mae: 5.7814 - val_loss: 72.7742 - val_mae: 6.7584\n",
            "Epoch 48/200\n",
            "33/33 [==============================] - 0s 4ms/step - loss: 56.8316 - mae: 5.6711 - val_loss: 57.7211 - val_mae: 5.9489\n",
            "Epoch 49/200\n",
            "33/33 [==============================] - 0s 3ms/step - loss: 53.8572 - mae: 5.7053 - val_loss: 55.0966 - val_mae: 5.8854\n",
            "Epoch 50/200\n",
            "33/33 [==============================] - 0s 3ms/step - loss: 47.4969 - mae: 5.3758 - val_loss: 54.5460 - val_mae: 5.7811\n",
            "Epoch 51/200\n",
            "33/33 [==============================] - 0s 3ms/step - loss: 47.7058 - mae: 5.3218 - val_loss: 55.1613 - val_mae: 5.7660\n",
            "Epoch 52/200\n",
            "33/33 [==============================] - 0s 3ms/step - loss: 47.1083 - mae: 5.3173 - val_loss: 51.7041 - val_mae: 5.6039\n",
            "Epoch 53/200\n",
            "33/33 [==============================] - 0s 3ms/step - loss: 45.0822 - mae: 5.0857 - val_loss: 48.6833 - val_mae: 5.4290\n",
            "Epoch 54/200\n",
            "33/33 [==============================] - 0s 3ms/step - loss: 48.5588 - mae: 5.3417 - val_loss: 51.9523 - val_mae: 5.6758\n",
            "Epoch 55/200\n",
            "33/33 [==============================] - 0s 3ms/step - loss: 45.4667 - mae: 5.2096 - val_loss: 50.5896 - val_mae: 5.4956\n",
            "Epoch 56/200\n",
            "33/33 [==============================] - 0s 3ms/step - loss: 44.4950 - mae: 5.0671 - val_loss: 54.5954 - val_mae: 5.8503\n",
            "Epoch 57/200\n",
            "33/33 [==============================] - 0s 3ms/step - loss: 48.2390 - mae: 5.2093 - val_loss: 80.2435 - val_mae: 7.1477\n",
            "Epoch 58/200\n",
            "33/33 [==============================] - 0s 3ms/step - loss: 44.2662 - mae: 5.1612 - val_loss: 45.9123 - val_mae: 5.2210\n",
            "Epoch 59/200\n",
            "33/33 [==============================] - 0s 4ms/step - loss: 42.2355 - mae: 4.9829 - val_loss: 44.9122 - val_mae: 5.2054\n",
            "Epoch 60/200\n",
            "33/33 [==============================] - 0s 3ms/step - loss: 42.4961 - mae: 5.0007 - val_loss: 45.4399 - val_mae: 5.2647\n",
            "Epoch 61/200\n",
            "33/33 [==============================] - 0s 3ms/step - loss: 49.0736 - mae: 5.1243 - val_loss: 44.2603 - val_mae: 5.1261\n",
            "Epoch 62/200\n",
            "33/33 [==============================] - 0s 3ms/step - loss: 44.7882 - mae: 4.9266 - val_loss: 43.5368 - val_mae: 5.1210\n",
            "Epoch 63/200\n",
            "33/33 [==============================] - 0s 3ms/step - loss: 39.8566 - mae: 4.7674 - val_loss: 41.6248 - val_mae: 4.9668\n",
            "Epoch 64/200\n",
            "33/33 [==============================] - 0s 3ms/step - loss: 41.7987 - mae: 4.8334 - val_loss: 42.7294 - val_mae: 4.9626\n",
            "Epoch 65/200\n",
            "33/33 [==============================] - 0s 3ms/step - loss: 38.0403 - mae: 4.6582 - val_loss: 40.1045 - val_mae: 4.9077\n",
            "Epoch 66/200\n",
            "33/33 [==============================] - 0s 3ms/step - loss: 40.8761 - mae: 4.7679 - val_loss: 39.3263 - val_mae: 4.7890\n",
            "Epoch 67/200\n",
            "33/33 [==============================] - 0s 3ms/step - loss: 40.0873 - mae: 4.7363 - val_loss: 38.8057 - val_mae: 4.8121\n",
            "Epoch 68/200\n",
            "33/33 [==============================] - 0s 3ms/step - loss: 34.9385 - mae: 4.4652 - val_loss: 37.3162 - val_mae: 4.7974\n",
            "Epoch 69/200\n",
            "33/33 [==============================] - 0s 3ms/step - loss: 38.0151 - mae: 4.8164 - val_loss: 47.6795 - val_mae: 5.3581\n",
            "Epoch 70/200\n",
            "33/33 [==============================] - 0s 3ms/step - loss: 38.6319 - mae: 4.7865 - val_loss: 36.9860 - val_mae: 4.6895\n",
            "Epoch 71/200\n",
            "33/33 [==============================] - 0s 3ms/step - loss: 36.1413 - mae: 4.5986 - val_loss: 37.3045 - val_mae: 4.6421\n",
            "Epoch 72/200\n",
            "33/33 [==============================] - 0s 3ms/step - loss: 33.9224 - mae: 4.5465 - val_loss: 37.1164 - val_mae: 4.5790\n",
            "Epoch 73/200\n",
            "33/33 [==============================] - 0s 3ms/step - loss: 36.6629 - mae: 4.6357 - val_loss: 35.6749 - val_mae: 4.5439\n",
            "Epoch 74/200\n",
            "33/33 [==============================] - 0s 3ms/step - loss: 32.1382 - mae: 4.2889 - val_loss: 38.1447 - val_mae: 4.7765\n",
            "Epoch 75/200\n",
            "33/33 [==============================] - 0s 3ms/step - loss: 28.6235 - mae: 4.1622 - val_loss: 34.2203 - val_mae: 4.5301\n",
            "Epoch 76/200\n",
            "33/33 [==============================] - 0s 3ms/step - loss: 35.1391 - mae: 4.5106 - val_loss: 34.2374 - val_mae: 4.5437\n",
            "Epoch 77/200\n",
            "33/33 [==============================] - 0s 3ms/step - loss: 31.7582 - mae: 4.3055 - val_loss: 42.6764 - val_mae: 4.9838\n",
            "Epoch 78/200\n",
            "33/33 [==============================] - 0s 3ms/step - loss: 31.5063 - mae: 4.4052 - val_loss: 36.6513 - val_mae: 4.5298\n",
            "Epoch 79/200\n",
            "33/33 [==============================] - 0s 3ms/step - loss: 35.4937 - mae: 4.5953 - val_loss: 33.6951 - val_mae: 4.4713\n",
            "Epoch 80/200\n",
            "33/33 [==============================] - 0s 3ms/step - loss: 29.2117 - mae: 4.1158 - val_loss: 46.2996 - val_mae: 5.2571\n",
            "Epoch 81/200\n",
            "33/33 [==============================] - 0s 3ms/step - loss: 34.4658 - mae: 4.5609 - val_loss: 57.4450 - val_mae: 5.9251\n",
            "Epoch 82/200\n",
            "33/33 [==============================] - 0s 3ms/step - loss: 30.1755 - mae: 4.2514 - val_loss: 32.6099 - val_mae: 4.3158\n",
            "Epoch 83/200\n",
            "33/33 [==============================] - 0s 3ms/step - loss: 32.3894 - mae: 4.2836 - val_loss: 34.9593 - val_mae: 4.5079\n",
            "Epoch 84/200\n",
            "33/33 [==============================] - 0s 3ms/step - loss: 27.8857 - mae: 4.0212 - val_loss: 30.9058 - val_mae: 4.2325\n",
            "Epoch 85/200\n",
            "33/33 [==============================] - 0s 3ms/step - loss: 26.1594 - mae: 3.9082 - val_loss: 32.4133 - val_mae: 4.4203\n",
            "Epoch 86/200\n",
            "33/33 [==============================] - 0s 3ms/step - loss: 30.8303 - mae: 4.1536 - val_loss: 34.6018 - val_mae: 4.5697\n",
            "Epoch 87/200\n",
            "33/33 [==============================] - 0s 3ms/step - loss: 27.9532 - mae: 4.0444 - val_loss: 34.8226 - val_mae: 4.3472\n",
            "Epoch 88/200\n",
            "33/33 [==============================] - 0s 3ms/step - loss: 34.4081 - mae: 4.5243 - val_loss: 33.1676 - val_mae: 4.3752\n",
            "Epoch 89/200\n",
            "33/33 [==============================] - 0s 3ms/step - loss: 25.0921 - mae: 3.8121 - val_loss: 34.4707 - val_mae: 4.5708\n",
            "Epoch 90/200\n",
            "33/33 [==============================] - 0s 3ms/step - loss: 27.6578 - mae: 4.0479 - val_loss: 48.7606 - val_mae: 5.4543\n",
            "Epoch 91/200\n",
            "33/33 [==============================] - 0s 3ms/step - loss: 30.6815 - mae: 4.1877 - val_loss: 32.8220 - val_mae: 4.4642\n",
            "Epoch 92/200\n",
            "33/33 [==============================] - 0s 3ms/step - loss: 27.9001 - mae: 3.9797 - val_loss: 67.1619 - val_mae: 6.5273\n",
            "Epoch 93/200\n",
            "33/33 [==============================] - 0s 3ms/step - loss: 30.5794 - mae: 4.2328 - val_loss: 37.8018 - val_mae: 4.8009\n",
            "Epoch 94/200\n",
            "33/33 [==============================] - 0s 3ms/step - loss: 28.1817 - mae: 4.1121 - val_loss: 30.7134 - val_mae: 4.1253\n",
            "Epoch 95/200\n",
            "33/33 [==============================] - 0s 3ms/step - loss: 25.3792 - mae: 3.8962 - val_loss: 36.4247 - val_mae: 4.5899\n",
            "Epoch 96/200\n",
            "33/33 [==============================] - 0s 3ms/step - loss: 25.8619 - mae: 3.8323 - val_loss: 29.2043 - val_mae: 4.1918\n",
            "Epoch 97/200\n",
            "33/33 [==============================] - 0s 3ms/step - loss: 25.9640 - mae: 3.9330 - val_loss: 33.1408 - val_mae: 4.3879\n",
            "Epoch 98/200\n",
            "33/33 [==============================] - 0s 3ms/step - loss: 25.0173 - mae: 3.7916 - val_loss: 34.2270 - val_mae: 4.4031\n",
            "Epoch 99/200\n",
            "33/33 [==============================] - 0s 3ms/step - loss: 27.8292 - mae: 4.0031 - val_loss: 30.1739 - val_mae: 4.2272\n",
            "Epoch 100/200\n",
            "33/33 [==============================] - 0s 3ms/step - loss: 25.0412 - mae: 3.8370 - val_loss: 34.0366 - val_mae: 4.4275\n",
            "Epoch 101/200\n",
            "33/33 [==============================] - 0s 4ms/step - loss: 28.0069 - mae: 4.0353 - val_loss: 29.7369 - val_mae: 4.0969\n",
            "Epoch 102/200\n",
            "33/33 [==============================] - 0s 3ms/step - loss: 27.3828 - mae: 4.1037 - val_loss: 34.7835 - val_mae: 4.6034\n",
            "Epoch 103/200\n",
            "33/33 [==============================] - 0s 3ms/step - loss: 24.4137 - mae: 3.7572 - val_loss: 39.7577 - val_mae: 4.7978\n",
            "Epoch 104/200\n",
            "33/33 [==============================] - 0s 3ms/step - loss: 25.2961 - mae: 3.8637 - val_loss: 29.5274 - val_mae: 4.1264\n",
            "Epoch 105/200\n",
            "33/33 [==============================] - 0s 3ms/step - loss: 24.0260 - mae: 3.7719 - val_loss: 35.8679 - val_mae: 4.5974\n",
            "Epoch 106/200\n",
            "33/33 [==============================] - 0s 3ms/step - loss: 27.2959 - mae: 3.9599 - val_loss: 29.4711 - val_mae: 4.1077\n",
            "Epoch 107/200\n",
            "33/33 [==============================] - 0s 3ms/step - loss: 23.0064 - mae: 3.5903 - val_loss: 29.7190 - val_mae: 4.2082\n",
            "Epoch 108/200\n",
            "33/33 [==============================] - 0s 3ms/step - loss: 23.0932 - mae: 3.7106 - val_loss: 28.9960 - val_mae: 3.9541\n",
            "Epoch 109/200\n",
            "33/33 [==============================] - 0s 3ms/step - loss: 24.0857 - mae: 3.7916 - val_loss: 28.7079 - val_mae: 4.0063\n",
            "Epoch 110/200\n",
            "33/33 [==============================] - 0s 3ms/step - loss: 27.0563 - mae: 4.0052 - val_loss: 29.1033 - val_mae: 4.0674\n",
            "Epoch 111/200\n",
            "33/33 [==============================] - 0s 3ms/step - loss: 24.6940 - mae: 3.7433 - val_loss: 30.6700 - val_mae: 4.0316\n",
            "Epoch 112/200\n",
            "33/33 [==============================] - 0s 3ms/step - loss: 30.1109 - mae: 4.0749 - val_loss: 31.8899 - val_mae: 4.2015\n",
            "Epoch 113/200\n",
            "33/33 [==============================] - 0s 3ms/step - loss: 22.9547 - mae: 3.6648 - val_loss: 40.7049 - val_mae: 4.8185\n",
            "Epoch 114/200\n",
            "33/33 [==============================] - 0s 3ms/step - loss: 24.3567 - mae: 3.7390 - val_loss: 45.4711 - val_mae: 5.2425\n",
            "Epoch 115/200\n",
            "33/33 [==============================] - 0s 3ms/step - loss: 22.3965 - mae: 3.6067 - val_loss: 35.2049 - val_mae: 4.6017\n",
            "Epoch 116/200\n",
            "33/33 [==============================] - 0s 3ms/step - loss: 22.5326 - mae: 3.6290 - val_loss: 40.5881 - val_mae: 4.8676\n",
            "Epoch 117/200\n",
            "33/33 [==============================] - 0s 3ms/step - loss: 24.3401 - mae: 3.8011 - val_loss: 40.0021 - val_mae: 4.7995\n",
            "Epoch 118/200\n",
            "33/33 [==============================] - 0s 3ms/step - loss: 20.0412 - mae: 3.3616 - val_loss: 49.2067 - val_mae: 5.2569\n",
            "Epoch 119/200\n",
            "33/33 [==============================] - 0s 3ms/step - loss: 22.7071 - mae: 3.6499 - val_loss: 33.7789 - val_mae: 4.3768\n",
            "Epoch 120/200\n",
            "33/33 [==============================] - 0s 3ms/step - loss: 22.3589 - mae: 3.6432 - val_loss: 30.2403 - val_mae: 4.1346\n",
            "Epoch 121/200\n",
            "33/33 [==============================] - 0s 3ms/step - loss: 25.1864 - mae: 3.7201 - val_loss: 53.8628 - val_mae: 5.6020\n",
            "Epoch 122/200\n",
            "33/33 [==============================] - 0s 3ms/step - loss: 23.8177 - mae: 3.7499 - val_loss: 26.9400 - val_mae: 3.9566\n",
            "Epoch 123/200\n",
            "33/33 [==============================] - 0s 3ms/step - loss: 22.2847 - mae: 3.5658 - val_loss: 31.2058 - val_mae: 4.1283\n",
            "Epoch 124/200\n",
            "33/33 [==============================] - 0s 3ms/step - loss: 22.4046 - mae: 3.5936 - val_loss: 40.6381 - val_mae: 4.8155\n",
            "Epoch 125/200\n",
            "33/33 [==============================] - 0s 3ms/step - loss: 23.5411 - mae: 3.7046 - val_loss: 36.7747 - val_mae: 4.5758\n",
            "Epoch 126/200\n",
            "33/33 [==============================] - 0s 3ms/step - loss: 22.2627 - mae: 3.6616 - val_loss: 29.2981 - val_mae: 4.0490\n",
            "Epoch 127/200\n",
            "33/33 [==============================] - 0s 4ms/step - loss: 21.3870 - mae: 3.4615 - val_loss: 59.7865 - val_mae: 6.2120\n",
            "Epoch 128/200\n",
            "33/33 [==============================] - 0s 3ms/step - loss: 24.7977 - mae: 3.7824 - val_loss: 37.9063 - val_mae: 4.4868\n",
            "Epoch 129/200\n",
            "33/33 [==============================] - 0s 3ms/step - loss: 21.7115 - mae: 3.5629 - val_loss: 29.1378 - val_mae: 4.0526\n",
            "Epoch 130/200\n",
            "33/33 [==============================] - 0s 3ms/step - loss: 25.1430 - mae: 3.7733 - val_loss: 29.0039 - val_mae: 4.1437\n",
            "Epoch 131/200\n",
            "33/33 [==============================] - 0s 3ms/step - loss: 23.2288 - mae: 3.6707 - val_loss: 31.8858 - val_mae: 4.3322\n",
            "Epoch 132/200\n",
            "33/33 [==============================] - 0s 3ms/step - loss: 22.6911 - mae: 3.6584 - val_loss: 26.8244 - val_mae: 3.7955\n",
            "Epoch 133/200\n",
            "33/33 [==============================] - 0s 3ms/step - loss: 19.9127 - mae: 3.4044 - val_loss: 27.7377 - val_mae: 3.9697\n",
            "Epoch 134/200\n",
            "33/33 [==============================] - 0s 3ms/step - loss: 22.9943 - mae: 3.5427 - val_loss: 52.6406 - val_mae: 5.5218\n",
            "Epoch 135/200\n",
            "33/33 [==============================] - 0s 3ms/step - loss: 26.0538 - mae: 3.7798 - val_loss: 27.2687 - val_mae: 3.8841\n",
            "Epoch 136/200\n",
            "33/33 [==============================] - 0s 3ms/step - loss: 19.7431 - mae: 3.3682 - val_loss: 26.9825 - val_mae: 3.8975\n",
            "Epoch 137/200\n",
            "33/33 [==============================] - 0s 3ms/step - loss: 20.5247 - mae: 3.5807 - val_loss: 32.9914 - val_mae: 4.3517\n",
            "Epoch 138/200\n",
            "33/33 [==============================] - 0s 3ms/step - loss: 20.5773 - mae: 3.4957 - val_loss: 51.7627 - val_mae: 5.5009\n",
            "Epoch 139/200\n",
            "33/33 [==============================] - 0s 3ms/step - loss: 22.0298 - mae: 3.5152 - val_loss: 29.4447 - val_mae: 3.9997\n",
            "Epoch 140/200\n",
            "33/33 [==============================] - 0s 3ms/step - loss: 21.4141 - mae: 3.5714 - val_loss: 39.1386 - val_mae: 4.6489\n",
            "Epoch 141/200\n",
            "33/33 [==============================] - 0s 3ms/step - loss: 20.8910 - mae: 3.4139 - val_loss: 29.4238 - val_mae: 4.0471\n",
            "Epoch 142/200\n",
            "33/33 [==============================] - 0s 3ms/step - loss: 19.9044 - mae: 3.4725 - val_loss: 29.3500 - val_mae: 4.0844\n",
            "Epoch 143/200\n",
            "33/33 [==============================] - 0s 4ms/step - loss: 19.5284 - mae: 3.3455 - val_loss: 28.2072 - val_mae: 4.0089\n",
            "Epoch 144/200\n",
            "33/33 [==============================] - 0s 3ms/step - loss: 19.6327 - mae: 3.3402 - val_loss: 25.9567 - val_mae: 3.9010\n",
            "Epoch 145/200\n",
            "33/33 [==============================] - 0s 3ms/step - loss: 18.6487 - mae: 3.3199 - val_loss: 28.6199 - val_mae: 4.1295\n",
            "Epoch 146/200\n",
            "33/33 [==============================] - 0s 4ms/step - loss: 21.4620 - mae: 3.5185 - val_loss: 33.0751 - val_mae: 4.2887\n",
            "Epoch 147/200\n",
            "33/33 [==============================] - 0s 3ms/step - loss: 21.7369 - mae: 3.5240 - val_loss: 31.9906 - val_mae: 4.2277\n",
            "Epoch 148/200\n",
            "33/33 [==============================] - 0s 3ms/step - loss: 19.4793 - mae: 3.2127 - val_loss: 59.3678 - val_mae: 5.9144\n",
            "Epoch 149/200\n",
            "33/33 [==============================] - 0s 3ms/step - loss: 22.0765 - mae: 3.4510 - val_loss: 26.7688 - val_mae: 3.7135\n",
            "Epoch 150/200\n",
            "33/33 [==============================] - 0s 4ms/step - loss: 19.0349 - mae: 3.3702 - val_loss: 29.2744 - val_mae: 4.1438\n",
            "Epoch 151/200\n",
            "33/33 [==============================] - 0s 3ms/step - loss: 19.9438 - mae: 3.3863 - val_loss: 31.7693 - val_mae: 4.0958\n",
            "Epoch 152/200\n",
            "33/33 [==============================] - 0s 3ms/step - loss: 19.5760 - mae: 3.3199 - val_loss: 32.3532 - val_mae: 4.2044\n",
            "Epoch 153/200\n",
            "33/33 [==============================] - 0s 3ms/step - loss: 17.4180 - mae: 3.2078 - val_loss: 34.2430 - val_mae: 4.3631\n",
            "Epoch 154/200\n",
            "33/33 [==============================] - 0s 3ms/step - loss: 18.7622 - mae: 3.2438 - val_loss: 26.5742 - val_mae: 3.9071\n",
            "Epoch 155/200\n",
            "33/33 [==============================] - 0s 3ms/step - loss: 18.3521 - mae: 3.1829 - val_loss: 29.9576 - val_mae: 4.1189\n",
            "Epoch 156/200\n",
            "33/33 [==============================] - 0s 3ms/step - loss: 18.4497 - mae: 3.1765 - val_loss: 25.7747 - val_mae: 3.7969\n",
            "Epoch 157/200\n",
            "33/33 [==============================] - 0s 3ms/step - loss: 18.1043 - mae: 3.1716 - val_loss: 26.8926 - val_mae: 3.9238\n",
            "Epoch 158/200\n",
            "33/33 [==============================] - 0s 3ms/step - loss: 18.3011 - mae: 3.3262 - val_loss: 30.2208 - val_mae: 4.1395\n",
            "Epoch 159/200\n",
            "33/33 [==============================] - 0s 4ms/step - loss: 18.9814 - mae: 3.1896 - val_loss: 31.7737 - val_mae: 4.3287\n",
            "Epoch 160/200\n",
            "33/33 [==============================] - 0s 3ms/step - loss: 21.3275 - mae: 3.4423 - val_loss: 35.8182 - val_mae: 4.4738\n",
            "Epoch 161/200\n",
            "33/33 [==============================] - 0s 3ms/step - loss: 21.5224 - mae: 3.5699 - val_loss: 27.8464 - val_mae: 3.9616\n",
            "Epoch 162/200\n",
            "33/33 [==============================] - 0s 3ms/step - loss: 20.8970 - mae: 3.4633 - val_loss: 26.8030 - val_mae: 4.0153\n",
            "Epoch 163/200\n",
            "33/33 [==============================] - 0s 3ms/step - loss: 18.1479 - mae: 3.2177 - val_loss: 26.8567 - val_mae: 3.9670\n",
            "Epoch 164/200\n",
            "33/33 [==============================] - 0s 3ms/step - loss: 19.0093 - mae: 3.2739 - val_loss: 24.3158 - val_mae: 3.6881\n",
            "Epoch 165/200\n",
            "33/33 [==============================] - 0s 3ms/step - loss: 17.6811 - mae: 3.1671 - val_loss: 29.3846 - val_mae: 4.2252\n",
            "Epoch 166/200\n",
            "33/33 [==============================] - 0s 3ms/step - loss: 21.1757 - mae: 3.5432 - val_loss: 27.5293 - val_mae: 4.1355\n",
            "Epoch 167/200\n",
            "33/33 [==============================] - 0s 3ms/step - loss: 16.4472 - mae: 2.9732 - val_loss: 35.1601 - val_mae: 4.3692\n",
            "Epoch 168/200\n",
            "33/33 [==============================] - 0s 3ms/step - loss: 19.9117 - mae: 3.3809 - val_loss: 27.1950 - val_mae: 3.8133\n",
            "Epoch 169/200\n",
            "33/33 [==============================] - 0s 3ms/step - loss: 19.5062 - mae: 3.3147 - val_loss: 38.4915 - val_mae: 4.5801\n",
            "Epoch 170/200\n",
            "33/33 [==============================] - 0s 3ms/step - loss: 18.9584 - mae: 3.2523 - val_loss: 24.7606 - val_mae: 3.6953\n",
            "Epoch 171/200\n",
            "33/33 [==============================] - 0s 3ms/step - loss: 16.3980 - mae: 3.1443 - val_loss: 34.5098 - val_mae: 4.3053\n",
            "Epoch 172/200\n",
            "33/33 [==============================] - 0s 3ms/step - loss: 18.0345 - mae: 3.2143 - val_loss: 73.8241 - val_mae: 6.5639\n",
            "Epoch 173/200\n",
            "33/33 [==============================] - 0s 3ms/step - loss: 21.2099 - mae: 3.4735 - val_loss: 26.6335 - val_mae: 3.8583\n",
            "Epoch 174/200\n",
            "33/33 [==============================] - 0s 3ms/step - loss: 19.3262 - mae: 3.2812 - val_loss: 28.4706 - val_mae: 3.9994\n",
            "Epoch 175/200\n",
            "33/33 [==============================] - 0s 3ms/step - loss: 18.5520 - mae: 3.1672 - val_loss: 28.8457 - val_mae: 3.8756\n",
            "Epoch 176/200\n",
            "33/33 [==============================] - 0s 3ms/step - loss: 17.1922 - mae: 3.1463 - val_loss: 25.8158 - val_mae: 3.7558\n",
            "Epoch 177/200\n",
            "33/33 [==============================] - 0s 3ms/step - loss: 17.1182 - mae: 3.0373 - val_loss: 33.0239 - val_mae: 4.5967\n",
            "Epoch 178/200\n",
            "33/33 [==============================] - 0s 4ms/step - loss: 17.6920 - mae: 3.2708 - val_loss: 26.5865 - val_mae: 3.7497\n",
            "Epoch 179/200\n",
            "33/33 [==============================] - 0s 3ms/step - loss: 19.6616 - mae: 3.2630 - val_loss: 27.8110 - val_mae: 4.0168\n",
            "Epoch 180/200\n",
            "33/33 [==============================] - 0s 3ms/step - loss: 18.6999 - mae: 3.2497 - val_loss: 30.2674 - val_mae: 4.0593\n",
            "Epoch 181/200\n",
            "33/33 [==============================] - 0s 3ms/step - loss: 18.0882 - mae: 3.2819 - val_loss: 27.2513 - val_mae: 3.8005\n",
            "Epoch 182/200\n",
            "33/33 [==============================] - 0s 3ms/step - loss: 18.3544 - mae: 3.1789 - val_loss: 34.4590 - val_mae: 4.3845\n",
            "Epoch 183/200\n",
            "33/33 [==============================] - 0s 3ms/step - loss: 17.1054 - mae: 3.1478 - val_loss: 30.8151 - val_mae: 4.3338\n",
            "Epoch 184/200\n",
            "33/33 [==============================] - 0s 3ms/step - loss: 16.7835 - mae: 3.1199 - val_loss: 28.0220 - val_mae: 3.9898\n",
            "Epoch 185/200\n",
            "33/33 [==============================] - 0s 3ms/step - loss: 20.6727 - mae: 3.4421 - val_loss: 37.0835 - val_mae: 4.5396\n",
            "Epoch 186/200\n",
            "33/33 [==============================] - 0s 3ms/step - loss: 17.2136 - mae: 3.1139 - val_loss: 30.6848 - val_mae: 4.0985\n",
            "Epoch 187/200\n",
            "33/33 [==============================] - 0s 3ms/step - loss: 17.6775 - mae: 3.1640 - val_loss: 26.8417 - val_mae: 3.9127\n",
            "Epoch 188/200\n",
            "33/33 [==============================] - 0s 3ms/step - loss: 16.7263 - mae: 3.0381 - val_loss: 30.5546 - val_mae: 4.0611\n",
            "Epoch 189/200\n",
            "33/33 [==============================] - 0s 3ms/step - loss: 18.2993 - mae: 3.2653 - val_loss: 27.4946 - val_mae: 3.8222\n",
            "Epoch 190/200\n",
            "33/33 [==============================] - 0s 3ms/step - loss: 17.8764 - mae: 3.1905 - val_loss: 28.6829 - val_mae: 4.1783\n",
            "Epoch 191/200\n",
            "33/33 [==============================] - 0s 3ms/step - loss: 17.0086 - mae: 3.1666 - val_loss: 26.6288 - val_mae: 3.9888\n",
            "Epoch 192/200\n",
            "33/33 [==============================] - 0s 3ms/step - loss: 19.4817 - mae: 3.3353 - val_loss: 32.5848 - val_mae: 4.2418\n",
            "Epoch 193/200\n",
            "33/33 [==============================] - 0s 3ms/step - loss: 16.8123 - mae: 3.1032 - val_loss: 40.5567 - val_mae: 4.6906\n",
            "Epoch 194/200\n",
            "33/33 [==============================] - 0s 3ms/step - loss: 15.9633 - mae: 2.8682 - val_loss: 26.1493 - val_mae: 3.7356\n",
            "Epoch 195/200\n",
            "33/33 [==============================] - 0s 3ms/step - loss: 16.2559 - mae: 3.0681 - val_loss: 27.8088 - val_mae: 3.9261\n",
            "Epoch 196/200\n",
            "33/33 [==============================] - 0s 3ms/step - loss: 17.1916 - mae: 3.1453 - val_loss: 29.0539 - val_mae: 4.0876\n",
            "Epoch 197/200\n",
            "33/33 [==============================] - 0s 3ms/step - loss: 16.7397 - mae: 3.2184 - val_loss: 30.4912 - val_mae: 3.9682\n",
            "Epoch 198/200\n",
            "33/33 [==============================] - 0s 3ms/step - loss: 16.4458 - mae: 3.0342 - val_loss: 24.3238 - val_mae: 3.5753\n",
            "Epoch 199/200\n",
            "33/33 [==============================] - 0s 3ms/step - loss: 16.2063 - mae: 2.9937 - val_loss: 33.6183 - val_mae: 4.2241\n",
            "Epoch 200/200\n",
            "33/33 [==============================] - 0s 4ms/step - loss: 17.7392 - mae: 3.1983 - val_loss: 28.1005 - val_mae: 3.8876\n"
          ],
          "name": "stdout"
        },
        {
          "output_type": "execute_result",
          "data": {
            "text/plain": [
              "<tensorflow.python.keras.callbacks.History at 0x7facf63e2950>"
            ]
          },
          "metadata": {
            "tags": []
          },
          "execution_count": 25
        }
      ]
    },
    {
      "cell_type": "code",
      "metadata": {
        "colab": {
          "base_uri": "https://localhost:8080/"
        },
        "id": "c0QcEXPUglcf",
        "outputId": "0f111d7e-4529-4b63-e47f-30103f53fb52"
      },
      "source": [
        "## Retraining it:\n",
        "\n",
        "from keras import models, layers, regularizers\n",
        "\n",
        "input_tensor = layers.Input(shape = (train_data.shape[-1],))\n",
        "p = layers.Dense(64, activation = 'relu') (input_tensor)\n",
        "\n",
        "q = layers.Dense(32, activation = 'relu') (p)\n",
        "\n",
        "r = layers.Dense(16, activation = 'relu') (q)\n",
        "\n",
        "s = layers.Dense(8, activation = 'relu') (r)\n",
        "\n",
        "output_tensor = layers.Dense(1) (s)\n",
        "\n",
        "\n",
        "\n",
        "modelCo2 = models.Model(inputs = input_tensor, outputs = output_tensor)\n",
        "\n",
        "modelCo2.compile(optimizer = 'rmsprop',\n",
        "                 loss = 'mse',\n",
        "                 metrics = ['mae'])\n",
        "\n",
        "modelCo2.fit(train_data, train_values, epochs = 75, batch_size = 16, verbose = 0 )\n",
        "\n",
        "modelCo2.evaluate(test_data, test_values)"
      ],
      "execution_count": 26,
      "outputs": [
        {
          "output_type": "stream",
          "text": [
            "10/10 [==============================] - 0s 2ms/step - loss: 30.9981 - mae: 4.4068\n"
          ],
          "name": "stdout"
        },
        {
          "output_type": "execute_result",
          "data": {
            "text/plain": [
              "[30.998098373413086, 4.406840801239014]"
            ]
          },
          "metadata": {
            "tags": []
          },
          "execution_count": 26
        }
      ]
    },
    {
      "cell_type": "code",
      "metadata": {
        "id": "IISjQLP6_g9u"
      },
      "source": [
        ""
      ],
      "execution_count": null,
      "outputs": []
    }
  ]
}