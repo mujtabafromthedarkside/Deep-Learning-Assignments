{
  "nbformat": 4,
  "nbformat_minor": 0,
  "metadata": {
    "kernelspec": {
      "display_name": "Python 3",
      "language": "python",
      "name": "python3"
    },
    "language_info": {
      "codemirror_mode": {
        "name": "ipython",
        "version": 3
      },
      "file_extension": ".py",
      "mimetype": "text/x-python",
      "name": "python",
      "nbconvert_exporter": "python",
      "pygments_lexer": "ipython3",
      "version": "3.7.3"
    },
    "colab": {
      "name": "Concrete Strength Assignment Solved.ipynb",
      "provenance": [],
      "collapsed_sections": []
    }
  },
  "cells": [
    {
      "cell_type": "markdown",
      "metadata": {
        "id": "0g3AcHpNstuX"
      },
      "source": [
        "# Assignment: Compresive Strength Concrete Problem\n",
        "\n",
        "\n",
        "### Abstract: \n",
        "\n",
        "Concrete is the most important material in civil engineering. The concrete compressive strength (concrete strength to bear the load) is a highly nonlinear function of age and ingredients.  <br><br>\n",
        "\n",
        "<table border=\"1\"  cellpadding=\"6\" bordercolor=\"red\">\n",
        "\t<tbody>\n",
        "        <tr>\n",
        "\t\t<td bgcolor=\"#DDEEFF\"><p class=\"normal\"><b>Data Set Characteristics:&nbsp;&nbsp;</b></p></td>\n",
        "\t\t<td><p class=\"normal\">Multivariate</p></td>\n",
        "\t\t<td bgcolor=\"#DDEEFF\"><p class=\"normal\"><b>Number of Instances:</b></p></td>\n",
        "\t\t<td><p class=\"normal\">1030</p></td>\n",
        "\t\t<td bgcolor=\"#DDEEFF\"><p class=\"normal\"><b>Area:</b></p></td>\n",
        "\t\t<td><p class=\"normal\">Physical</p></td>\n",
        "        </tr>\n",
        "     </tbody>\n",
        "    </table>\n",
        "<table border=\"1\" cellpadding=\"6\">\n",
        "    <tbody>\n",
        "        <tr>\n",
        "            <td bgcolor=\"#DDEEFF\"><p class=\"normal\"><b>Attribute Characteristics:</b></p></td>\n",
        "            <td><p class=\"normal\">Real</p></td>\n",
        "            <td bgcolor=\"#DDEEFF\"><p class=\"normal\"><b>Number of Attributes:</b></p></td>\n",
        "            <td><p class=\"normal\">9</p></td>\n",
        "            <td bgcolor=\"#DDEEFF\"><p class=\"normal\"><b>Date Donated</b></p></td>\n",
        "            <td><p class=\"normal\">2007-08-03</p></td>\n",
        "        </tr>\n",
        "     </tbody>\n",
        "    </table>\n",
        "<table border=\"1\" cellpadding=\"6\">\t\n",
        "    <tbody>\n",
        "    <tr>\n",
        "\t\t<td bgcolor=\"#DDEEFF\"><p class=\"normal\"><b>Associated Tasks:</b></p></td>\n",
        "\t\t<td><p class=\"normal\">Regression</p></td>\n",
        "\t\t<td bgcolor=\"#DDEEFF\"><p class=\"normal\"><b>Missing Values?</b></p></td>\n",
        "\t\t<td><p class=\"normal\">N/A</p></td>\n",
        "\t\t<td bgcolor=\"#DDEEFF\"><p class=\"normal\"><b>Number of Web Hits:</b></p></td>\n",
        "\t\t<td><p class=\"normal\">231464</p></td>\n",
        "\t</tr>\n",
        "    </tbody>\n",
        "    </table>"
      ]
    },
    {
      "cell_type": "markdown",
      "metadata": {
        "id": "s9sRPk8Kstud"
      },
      "source": [
        "###  Description:\n",
        "| Features Name | Data Type | Measurement | Description |\n",
        "| -- | -- | -- | -- |\n",
        "Cement (component 1) | quantitative | kg in a m3 mixture | Input Variable\n",
        "Blast Furnace Slag (component 2) | quantitative | kg in a m3 mixture | Input Variable\n",
        "Fly Ash (component 3) | quantitative | kg in a m3 mixture | Input Variable\n",
        "Water (component 4) | quantitative | kg in a m3 mixture | Input Variable\n",
        "Superplasticizer (component 5) | quantitative | kg in a m3 mixture | Input Variable\n",
        "Coarse Aggregate (component 6) | quantitative | kg in a m3 mixture | Input Variable\n",
        "Fine Aggregate (component 7) | quantitative | kg in a m3 mixture | Input Variable\n",
        "Age | quantitative | Day (1~365) | Input Variable\n",
        "Concrete compressive strength | quantitative | MPa | Output Variable\n",
        "\n",
        "### WORKFLOW :\n",
        "- Load Data\n",
        "- Check Missing Values ( If Exist ; Fill each record with mean of its feature )\n",
        "- Standardized the Input Variables. **Hint**: Centeralized the data\n",
        "- Split into 50% Training(Samples,Labels) , 30% Test(Samples,Labels) and 20% Validation Data(Samples,Labels).\n",
        "- Model : input Layer (No. of features ), 3 hidden layers including 10,8,6 unit & Output Layer with activation function relu/tanh (check by experiment).\n",
        "- Compilation Step (Note : Its a Regression problem , select loss , metrics according to it)\n",
        "- Train the Model with Epochs (100) and validate it\n",
        "- If the model gets overfit tune your model by changing the units , No. of layers , activation function , epochs , add dropout layer or add Regularizer according to the need .\n",
        "- Evaluation Step\n",
        "- Prediction\n"
      ]
    },
    {
      "cell_type": "markdown",
      "metadata": {
        "id": "QbnWZUZastug"
      },
      "source": [
        "## **Loading Data**"
      ]
    },
    {
      "cell_type": "code",
      "metadata": {
        "colab": {
          "resources": {
            "http://localhost:8080/nbextensions/google.colab/files.js": {
              "data": "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",
              "ok": true,
              "headers": [
                [
                  "content-type",
                  "application/javascript"
                ]
              ],
              "status": 200,
              "status_text": ""
            }
          },
          "base_uri": "https://localhost:8080/",
          "height": 89
        },
        "id": "yz3Uwjy2s8sF",
        "outputId": "09e87dbc-ba55-408d-822f-a5f259bbbd40"
      },
      "source": [
        "from google.colab import files \n",
        "\n",
        "uploaded = files.upload()"
      ],
      "execution_count": 1,
      "outputs": [
        {
          "output_type": "display_data",
          "data": {
            "text/html": [
              "\n",
              "     <input type=\"file\" id=\"files-1f3507bd-100f-4250-88a4-06da015d6b9a\" name=\"files[]\" multiple disabled\n",
              "        style=\"border:none\" />\n",
              "     <output id=\"result-1f3507bd-100f-4250-88a4-06da015d6b9a\">\n",
              "      Upload widget is only available when the cell has been executed in the\n",
              "      current browser session. Please rerun this cell to enable.\n",
              "      </output>\n",
              "      <script src=\"/nbextensions/google.colab/files.js\"></script> "
            ],
            "text/plain": [
              "<IPython.core.display.HTML object>"
            ]
          },
          "metadata": {
            "tags": []
          }
        },
        {
          "output_type": "stream",
          "text": [
            "Saving compresive_strength_concrete.csv to compresive_strength_concrete.csv\n"
          ],
          "name": "stdout"
        }
      ]
    },
    {
      "cell_type": "code",
      "metadata": {
        "colab": {
          "base_uri": "https://localhost:8080/",
          "height": 413
        },
        "id": "ukzdCP2-tmIT",
        "outputId": "f15aff3c-955a-46c6-aec2-8acc775b2b4a"
      },
      "source": [
        "import pandas as pd\n",
        "import numpy as np\n",
        "\n",
        "dataframe = pd.read_csv('compresive_strength_concrete.csv')\n",
        "\n",
        "dataframe.head().T"
      ],
      "execution_count": 2,
      "outputs": [
        {
          "output_type": "execute_result",
          "data": {
            "text/html": [
              "<div>\n",
              "<style scoped>\n",
              "    .dataframe tbody tr th:only-of-type {\n",
              "        vertical-align: middle;\n",
              "    }\n",
              "\n",
              "    .dataframe tbody tr th {\n",
              "        vertical-align: top;\n",
              "    }\n",
              "\n",
              "    .dataframe thead th {\n",
              "        text-align: right;\n",
              "    }\n",
              "</style>\n",
              "<table border=\"1\" class=\"dataframe\">\n",
              "  <thead>\n",
              "    <tr style=\"text-align: right;\">\n",
              "      <th></th>\n",
              "      <th>0</th>\n",
              "      <th>1</th>\n",
              "      <th>2</th>\n",
              "      <th>3</th>\n",
              "      <th>4</th>\n",
              "    </tr>\n",
              "  </thead>\n",
              "  <tbody>\n",
              "    <tr>\n",
              "      <th>Cement (component 1)(kg in a m^3 mixture)</th>\n",
              "      <td>540.00</td>\n",
              "      <td>540.00</td>\n",
              "      <td>332.50</td>\n",
              "      <td>332.50</td>\n",
              "      <td>198.6</td>\n",
              "    </tr>\n",
              "    <tr>\n",
              "      <th>Blast Furnace Slag (component 2)(kg in a m^3 mixture)</th>\n",
              "      <td>0.00</td>\n",
              "      <td>0.00</td>\n",
              "      <td>142.50</td>\n",
              "      <td>142.50</td>\n",
              "      <td>132.4</td>\n",
              "    </tr>\n",
              "    <tr>\n",
              "      <th>Fly Ash (component 3)(kg in a m^3 mixture)</th>\n",
              "      <td>0.00</td>\n",
              "      <td>0.00</td>\n",
              "      <td>0.00</td>\n",
              "      <td>0.00</td>\n",
              "      <td>0.0</td>\n",
              "    </tr>\n",
              "    <tr>\n",
              "      <th>Water  (component 4)(kg in a m^3 mixture)</th>\n",
              "      <td>162.00</td>\n",
              "      <td>162.00</td>\n",
              "      <td>228.00</td>\n",
              "      <td>228.00</td>\n",
              "      <td>192.0</td>\n",
              "    </tr>\n",
              "    <tr>\n",
              "      <th>Superplasticizer (component 5)(kg in a m^3 mixture)</th>\n",
              "      <td>2.50</td>\n",
              "      <td>2.50</td>\n",
              "      <td>0.00</td>\n",
              "      <td>0.00</td>\n",
              "      <td>0.0</td>\n",
              "    </tr>\n",
              "    <tr>\n",
              "      <th>Coarse Aggregate  (component 6)(kg in a m^3 mixture)</th>\n",
              "      <td>1040.00</td>\n",
              "      <td>1055.00</td>\n",
              "      <td>932.00</td>\n",
              "      <td>932.00</td>\n",
              "      <td>978.4</td>\n",
              "    </tr>\n",
              "    <tr>\n",
              "      <th>Fine Aggregate (component 7)(kg in a m^3 mixture)</th>\n",
              "      <td>676.00</td>\n",
              "      <td>676.00</td>\n",
              "      <td>594.00</td>\n",
              "      <td>594.00</td>\n",
              "      <td>825.5</td>\n",
              "    </tr>\n",
              "    <tr>\n",
              "      <th>Age (day)</th>\n",
              "      <td>28.00</td>\n",
              "      <td>28.00</td>\n",
              "      <td>270.00</td>\n",
              "      <td>365.00</td>\n",
              "      <td>360.0</td>\n",
              "    </tr>\n",
              "    <tr>\n",
              "      <th>Concrete compressive strength(MPa, megapascals)</th>\n",
              "      <td>79.99</td>\n",
              "      <td>61.89</td>\n",
              "      <td>40.27</td>\n",
              "      <td>41.05</td>\n",
              "      <td>44.3</td>\n",
              "    </tr>\n",
              "  </tbody>\n",
              "</table>\n",
              "</div>"
            ],
            "text/plain": [
              "                                                          0  ...      4\n",
              "Cement (component 1)(kg in a m^3 mixture)            540.00  ...  198.6\n",
              "Blast Furnace Slag (component 2)(kg in a m^3 mi...     0.00  ...  132.4\n",
              "Fly Ash (component 3)(kg in a m^3 mixture)             0.00  ...    0.0\n",
              "Water  (component 4)(kg in a m^3 mixture)            162.00  ...  192.0\n",
              "Superplasticizer (component 5)(kg in a m^3 mixt...     2.50  ...    0.0\n",
              "Coarse Aggregate  (component 6)(kg in a m^3 mix...  1040.00  ...  978.4\n",
              "Fine Aggregate (component 7)(kg in a m^3 mixture)    676.00  ...  825.5\n",
              "Age (day)                                             28.00  ...  360.0\n",
              "Concrete compressive strength(MPa, megapascals)       79.99  ...   44.3\n",
              "\n",
              "[9 rows x 5 columns]"
            ]
          },
          "metadata": {
            "tags": []
          },
          "execution_count": 2
        }
      ]
    },
    {
      "cell_type": "markdown",
      "metadata": {
        "id": "5VKtyCawXd8n"
      },
      "source": [
        "## **Checking for Missing Values**"
      ]
    },
    {
      "cell_type": "code",
      "metadata": {
        "colab": {
          "base_uri": "https://localhost:8080/"
        },
        "id": "CitNQsxytyJu",
        "outputId": "bc541676-b666-494b-c086-226d9f0fe6e4"
      },
      "source": [
        "dataframe.isnull().any()"
      ],
      "execution_count": 3,
      "outputs": [
        {
          "output_type": "execute_result",
          "data": {
            "text/plain": [
              "Cement (component 1)(kg in a m^3 mixture)                False\n",
              "Blast Furnace Slag (component 2)(kg in a m^3 mixture)    False\n",
              "Fly Ash (component 3)(kg in a m^3 mixture)               False\n",
              "Water  (component 4)(kg in a m^3 mixture)                False\n",
              "Superplasticizer (component 5)(kg in a m^3 mixture)      False\n",
              "Coarse Aggregate  (component 6)(kg in a m^3 mixture)     False\n",
              "Fine Aggregate (component 7)(kg in a m^3 mixture)        False\n",
              "Age (day)                                                False\n",
              "Concrete compressive strength(MPa, megapascals)          False\n",
              "dtype: bool"
            ]
          },
          "metadata": {
            "tags": []
          },
          "execution_count": 3
        }
      ]
    },
    {
      "cell_type": "code",
      "metadata": {
        "colab": {
          "base_uri": "https://localhost:8080/"
        },
        "id": "tXASDNEMuv-D",
        "outputId": "86e5a206-2991-4af5-93c4-106cf0d35831"
      },
      "source": [
        "dataframe.shape"
      ],
      "execution_count": 4,
      "outputs": [
        {
          "output_type": "execute_result",
          "data": {
            "text/plain": [
              "(1030, 9)"
            ]
          },
          "metadata": {
            "tags": []
          },
          "execution_count": 4
        }
      ]
    },
    {
      "cell_type": "markdown",
      "metadata": {
        "id": "xncW1U6xXiFD"
      },
      "source": [
        "## **Shuffling Data**"
      ]
    },
    {
      "cell_type": "code",
      "metadata": {
        "id": "BZZMwkTBv5_T"
      },
      "source": [
        "dataframe_shuffled = pd.DataFrame(np.random.permutation(dataframe) , columns = dataframe.columns)"
      ],
      "execution_count": 5,
      "outputs": []
    },
    {
      "cell_type": "markdown",
      "metadata": {
        "id": "iSyxeBizXmZq"
      },
      "source": [
        "## **Separating Target Values**"
      ]
    },
    {
      "cell_type": "code",
      "metadata": {
        "colab": {
          "base_uri": "https://localhost:8080/"
        },
        "id": "niIthjKKt_vE",
        "outputId": "4d1b2eb9-9577-4fd6-b35c-1e826dce2d6e"
      },
      "source": [
        "target_values = dataframe_shuffled.iloc[:,-1].copy()\n",
        "target_values"
      ],
      "execution_count": 6,
      "outputs": [
        {
          "output_type": "execute_result",
          "data": {
            "text/plain": [
              "0       14.94\n",
              "1       37.43\n",
              "2       59.59\n",
              "3       28.94\n",
              "4       21.26\n",
              "        ...  \n",
              "1025    46.93\n",
              "1026    20.59\n",
              "1027    33.69\n",
              "1028    21.91\n",
              "1029    25.57\n",
              "Name: Concrete compressive strength(MPa, megapascals) , Length: 1030, dtype: float64"
            ]
          },
          "metadata": {
            "tags": []
          },
          "execution_count": 6
        }
      ]
    },
    {
      "cell_type": "code",
      "metadata": {
        "id": "F7fDxcBHutq1"
      },
      "source": [
        "data = dataframe_shuffled.drop(dataframe.columns[-1], axis = 1).copy()"
      ],
      "execution_count": 7,
      "outputs": []
    },
    {
      "cell_type": "code",
      "metadata": {
        "colab": {
          "base_uri": "https://localhost:8080/",
          "height": 541
        },
        "id": "jr-TmaZiu5VE",
        "outputId": "95b7253b-b5d2-44fd-ea60-724ff6f379d4"
      },
      "source": [
        "data "
      ],
      "execution_count": 8,
      "outputs": [
        {
          "output_type": "execute_result",
          "data": {
            "text/html": [
              "<div>\n",
              "<style scoped>\n",
              "    .dataframe tbody tr th:only-of-type {\n",
              "        vertical-align: middle;\n",
              "    }\n",
              "\n",
              "    .dataframe tbody tr th {\n",
              "        vertical-align: top;\n",
              "    }\n",
              "\n",
              "    .dataframe thead th {\n",
              "        text-align: right;\n",
              "    }\n",
              "</style>\n",
              "<table border=\"1\" class=\"dataframe\">\n",
              "  <thead>\n",
              "    <tr style=\"text-align: right;\">\n",
              "      <th></th>\n",
              "      <th>Cement (component 1)(kg in a m^3 mixture)</th>\n",
              "      <th>Blast Furnace Slag (component 2)(kg in a m^3 mixture)</th>\n",
              "      <th>Fly Ash (component 3)(kg in a m^3 mixture)</th>\n",
              "      <th>Water  (component 4)(kg in a m^3 mixture)</th>\n",
              "      <th>Superplasticizer (component 5)(kg in a m^3 mixture)</th>\n",
              "      <th>Coarse Aggregate  (component 6)(kg in a m^3 mixture)</th>\n",
              "      <th>Fine Aggregate (component 7)(kg in a m^3 mixture)</th>\n",
              "      <th>Age (day)</th>\n",
              "    </tr>\n",
              "  </thead>\n",
              "  <tbody>\n",
              "    <tr>\n",
              "      <th>0</th>\n",
              "      <td>167.4</td>\n",
              "      <td>129.9</td>\n",
              "      <td>128.6</td>\n",
              "      <td>175.5</td>\n",
              "      <td>7.8</td>\n",
              "      <td>1006.3</td>\n",
              "      <td>746.6</td>\n",
              "      <td>3.0</td>\n",
              "    </tr>\n",
              "    <tr>\n",
              "      <th>1</th>\n",
              "      <td>150.0</td>\n",
              "      <td>237.0</td>\n",
              "      <td>0.0</td>\n",
              "      <td>174.0</td>\n",
              "      <td>12.0</td>\n",
              "      <td>1069.0</td>\n",
              "      <td>675.0</td>\n",
              "      <td>28.0</td>\n",
              "    </tr>\n",
              "    <tr>\n",
              "      <th>2</th>\n",
              "      <td>491.0</td>\n",
              "      <td>26.0</td>\n",
              "      <td>123.0</td>\n",
              "      <td>210.0</td>\n",
              "      <td>3.9</td>\n",
              "      <td>882.0</td>\n",
              "      <td>699.0</td>\n",
              "      <td>56.0</td>\n",
              "    </tr>\n",
              "    <tr>\n",
              "      <th>3</th>\n",
              "      <td>133.1</td>\n",
              "      <td>210.2</td>\n",
              "      <td>0.0</td>\n",
              "      <td>195.7</td>\n",
              "      <td>3.1</td>\n",
              "      <td>949.4</td>\n",
              "      <td>795.3</td>\n",
              "      <td>28.0</td>\n",
              "    </tr>\n",
              "    <tr>\n",
              "      <th>4</th>\n",
              "      <td>277.0</td>\n",
              "      <td>0.0</td>\n",
              "      <td>0.0</td>\n",
              "      <td>191.0</td>\n",
              "      <td>0.0</td>\n",
              "      <td>968.0</td>\n",
              "      <td>856.0</td>\n",
              "      <td>14.0</td>\n",
              "    </tr>\n",
              "    <tr>\n",
              "      <th>...</th>\n",
              "      <td>...</td>\n",
              "      <td>...</td>\n",
              "      <td>...</td>\n",
              "      <td>...</td>\n",
              "      <td>...</td>\n",
              "      <td>...</td>\n",
              "      <td>...</td>\n",
              "      <td>...</td>\n",
              "    </tr>\n",
              "    <tr>\n",
              "      <th>1025</th>\n",
              "      <td>190.0</td>\n",
              "      <td>190.0</td>\n",
              "      <td>0.0</td>\n",
              "      <td>228.0</td>\n",
              "      <td>0.0</td>\n",
              "      <td>932.0</td>\n",
              "      <td>670.0</td>\n",
              "      <td>180.0</td>\n",
              "    </tr>\n",
              "    <tr>\n",
              "      <th>1026</th>\n",
              "      <td>108.3</td>\n",
              "      <td>162.4</td>\n",
              "      <td>0.0</td>\n",
              "      <td>203.5</td>\n",
              "      <td>0.0</td>\n",
              "      <td>938.2</td>\n",
              "      <td>849.0</td>\n",
              "      <td>28.0</td>\n",
              "    </tr>\n",
              "    <tr>\n",
              "      <th>1027</th>\n",
              "      <td>310.0</td>\n",
              "      <td>143.0</td>\n",
              "      <td>111.0</td>\n",
              "      <td>168.0</td>\n",
              "      <td>22.0</td>\n",
              "      <td>914.0</td>\n",
              "      <td>651.0</td>\n",
              "      <td>28.0</td>\n",
              "    </tr>\n",
              "    <tr>\n",
              "      <th>1028</th>\n",
              "      <td>297.2</td>\n",
              "      <td>0.0</td>\n",
              "      <td>117.5</td>\n",
              "      <td>174.8</td>\n",
              "      <td>9.5</td>\n",
              "      <td>1022.8</td>\n",
              "      <td>753.5</td>\n",
              "      <td>3.0</td>\n",
              "    </tr>\n",
              "    <tr>\n",
              "      <th>1029</th>\n",
              "      <td>289.0</td>\n",
              "      <td>0.0</td>\n",
              "      <td>0.0</td>\n",
              "      <td>192.0</td>\n",
              "      <td>0.0</td>\n",
              "      <td>913.2</td>\n",
              "      <td>895.3</td>\n",
              "      <td>28.0</td>\n",
              "    </tr>\n",
              "  </tbody>\n",
              "</table>\n",
              "<p>1030 rows × 8 columns</p>\n",
              "</div>"
            ],
            "text/plain": [
              "      Cement (component 1)(kg in a m^3 mixture)  ...  Age (day)\n",
              "0                                         167.4  ...        3.0\n",
              "1                                         150.0  ...       28.0\n",
              "2                                         491.0  ...       56.0\n",
              "3                                         133.1  ...       28.0\n",
              "4                                         277.0  ...       14.0\n",
              "...                                         ...  ...        ...\n",
              "1025                                      190.0  ...      180.0\n",
              "1026                                      108.3  ...       28.0\n",
              "1027                                      310.0  ...       28.0\n",
              "1028                                      297.2  ...        3.0\n",
              "1029                                      289.0  ...       28.0\n",
              "\n",
              "[1030 rows x 8 columns]"
            ]
          },
          "metadata": {
            "tags": []
          },
          "execution_count": 8
        }
      ]
    },
    {
      "cell_type": "markdown",
      "metadata": {
        "id": "VX8P6zpUX0Yj"
      },
      "source": [
        "## **Splitting Dataset**"
      ]
    },
    {
      "cell_type": "code",
      "metadata": {
        "id": "GzcNlDWxvF4y"
      },
      "source": [
        "train_len = len(dataframe)*7//10\n",
        "test_len = len(dataframe) - train_len"
      ],
      "execution_count": 9,
      "outputs": []
    },
    {
      "cell_type": "code",
      "metadata": {
        "id": "WjGKU53FvgOF"
      },
      "source": [
        "train_data = data[0 : train_len].copy()\n",
        "test_data = data[train_len : train_len + test_len].copy()"
      ],
      "execution_count": 10,
      "outputs": []
    },
    {
      "cell_type": "code",
      "metadata": {
        "id": "SZf20pa0wOUq"
      },
      "source": [
        "train_values = target_values[0 : train_len].copy()\n",
        "test_values = target_values[train_len : train_len + test_len].copy()"
      ],
      "execution_count": 11,
      "outputs": []
    },
    {
      "cell_type": "code",
      "metadata": {
        "colab": {
          "base_uri": "https://localhost:8080/",
          "height": 326
        },
        "id": "OthuvITdxcyB",
        "outputId": "56c7c96c-184b-4c84-ec8e-ea1546d598e0"
      },
      "source": [
        "train_data.head()"
      ],
      "execution_count": 12,
      "outputs": [
        {
          "output_type": "execute_result",
          "data": {
            "text/html": [
              "<div>\n",
              "<style scoped>\n",
              "    .dataframe tbody tr th:only-of-type {\n",
              "        vertical-align: middle;\n",
              "    }\n",
              "\n",
              "    .dataframe tbody tr th {\n",
              "        vertical-align: top;\n",
              "    }\n",
              "\n",
              "    .dataframe thead th {\n",
              "        text-align: right;\n",
              "    }\n",
              "</style>\n",
              "<table border=\"1\" class=\"dataframe\">\n",
              "  <thead>\n",
              "    <tr style=\"text-align: right;\">\n",
              "      <th></th>\n",
              "      <th>Cement (component 1)(kg in a m^3 mixture)</th>\n",
              "      <th>Blast Furnace Slag (component 2)(kg in a m^3 mixture)</th>\n",
              "      <th>Fly Ash (component 3)(kg in a m^3 mixture)</th>\n",
              "      <th>Water  (component 4)(kg in a m^3 mixture)</th>\n",
              "      <th>Superplasticizer (component 5)(kg in a m^3 mixture)</th>\n",
              "      <th>Coarse Aggregate  (component 6)(kg in a m^3 mixture)</th>\n",
              "      <th>Fine Aggregate (component 7)(kg in a m^3 mixture)</th>\n",
              "      <th>Age (day)</th>\n",
              "    </tr>\n",
              "  </thead>\n",
              "  <tbody>\n",
              "    <tr>\n",
              "      <th>0</th>\n",
              "      <td>167.4</td>\n",
              "      <td>129.9</td>\n",
              "      <td>128.6</td>\n",
              "      <td>175.5</td>\n",
              "      <td>7.8</td>\n",
              "      <td>1006.3</td>\n",
              "      <td>746.6</td>\n",
              "      <td>3.0</td>\n",
              "    </tr>\n",
              "    <tr>\n",
              "      <th>1</th>\n",
              "      <td>150.0</td>\n",
              "      <td>237.0</td>\n",
              "      <td>0.0</td>\n",
              "      <td>174.0</td>\n",
              "      <td>12.0</td>\n",
              "      <td>1069.0</td>\n",
              "      <td>675.0</td>\n",
              "      <td>28.0</td>\n",
              "    </tr>\n",
              "    <tr>\n",
              "      <th>2</th>\n",
              "      <td>491.0</td>\n",
              "      <td>26.0</td>\n",
              "      <td>123.0</td>\n",
              "      <td>210.0</td>\n",
              "      <td>3.9</td>\n",
              "      <td>882.0</td>\n",
              "      <td>699.0</td>\n",
              "      <td>56.0</td>\n",
              "    </tr>\n",
              "    <tr>\n",
              "      <th>3</th>\n",
              "      <td>133.1</td>\n",
              "      <td>210.2</td>\n",
              "      <td>0.0</td>\n",
              "      <td>195.7</td>\n",
              "      <td>3.1</td>\n",
              "      <td>949.4</td>\n",
              "      <td>795.3</td>\n",
              "      <td>28.0</td>\n",
              "    </tr>\n",
              "    <tr>\n",
              "      <th>4</th>\n",
              "      <td>277.0</td>\n",
              "      <td>0.0</td>\n",
              "      <td>0.0</td>\n",
              "      <td>191.0</td>\n",
              "      <td>0.0</td>\n",
              "      <td>968.0</td>\n",
              "      <td>856.0</td>\n",
              "      <td>14.0</td>\n",
              "    </tr>\n",
              "  </tbody>\n",
              "</table>\n",
              "</div>"
            ],
            "text/plain": [
              "   Cement (component 1)(kg in a m^3 mixture)  ...  Age (day)\n",
              "0                                      167.4  ...        3.0\n",
              "1                                      150.0  ...       28.0\n",
              "2                                      491.0  ...       56.0\n",
              "3                                      133.1  ...       28.0\n",
              "4                                      277.0  ...       14.0\n",
              "\n",
              "[5 rows x 8 columns]"
            ]
          },
          "metadata": {
            "tags": []
          },
          "execution_count": 12
        }
      ]
    },
    {
      "cell_type": "markdown",
      "metadata": {
        "id": "KqBchM97X7hc"
      },
      "source": [
        "## **Normalizing Data AND further preprocessing**"
      ]
    },
    {
      "cell_type": "code",
      "metadata": {
        "id": "w31YLGmFwv47"
      },
      "source": [
        "mean = np.mean(train_data, axis = 0)\n",
        "std = np.std(train_data, axis = 0)\n",
        "\n",
        "train_data -= mean\n",
        "train_data /= std\n",
        "\n",
        "test_data -= mean\n",
        "test_data /= std"
      ],
      "execution_count": 13,
      "outputs": []
    },
    {
      "cell_type": "code",
      "metadata": {
        "colab": {
          "base_uri": "https://localhost:8080/"
        },
        "id": "-wmMYL-hwzCr",
        "outputId": "c2df34ee-8c7a-4246-bfcb-0d3c406d1367"
      },
      "source": [
        "train_values"
      ],
      "execution_count": 14,
      "outputs": [
        {
          "output_type": "execute_result",
          "data": {
            "text/plain": [
              "0      14.94\n",
              "1      37.43\n",
              "2      59.59\n",
              "3      28.94\n",
              "4      21.26\n",
              "       ...  \n",
              "716    59.89\n",
              "717    26.20\n",
              "718    37.33\n",
              "719    30.28\n",
              "720    10.09\n",
              "Name: Concrete compressive strength(MPa, megapascals) , Length: 721, dtype: float64"
            ]
          },
          "metadata": {
            "tags": []
          },
          "execution_count": 14
        }
      ]
    },
    {
      "cell_type": "code",
      "metadata": {
        "id": "0IZp4YtfzJ2t"
      },
      "source": [
        "train_data = np.array(train_data).astype('float32')\n",
        "train_values = np.array(train_values).astype('float32')"
      ],
      "execution_count": 15,
      "outputs": []
    },
    {
      "cell_type": "code",
      "metadata": {
        "id": "1oh9MhC9zk_m"
      },
      "source": [
        "test_data = np.array(test_data).astype('float32')\n",
        "test_values = np.array(test_values).astype('float32')"
      ],
      "execution_count": 16,
      "outputs": []
    },
    {
      "cell_type": "markdown",
      "metadata": {
        "id": "FqHwpXrfYNys"
      },
      "source": [
        "## **Reserving some data for Validation**"
      ]
    },
    {
      "cell_type": "code",
      "metadata": {
        "id": "XSqTA4Kaxg_J"
      },
      "source": [
        "len_partial_train = len(dataframe)*5//10\n",
        "len_validation = train_len - len_partial_train"
      ],
      "execution_count": 17,
      "outputs": []
    },
    {
      "cell_type": "code",
      "metadata": {
        "id": "WwYkKSPKyBXA"
      },
      "source": [
        "partial_train_data = train_data[0 : len_partial_train].copy()\n",
        "val_data = train_data[len_partial_train : ].copy()"
      ],
      "execution_count": 18,
      "outputs": []
    },
    {
      "cell_type": "code",
      "metadata": {
        "id": "sQNNPfa6yrSk"
      },
      "source": [
        "partial_train_values = train_values[0 : len_partial_train].copy()\n",
        "val_values = train_values[len_partial_train : ].copy()"
      ],
      "execution_count": 19,
      "outputs": []
    },
    {
      "cell_type": "code",
      "metadata": {
        "colab": {
          "base_uri": "https://localhost:8080/"
        },
        "id": "PcummQYI5bM7",
        "outputId": "8b96162b-a210-4df8-addd-4a51da39dc25"
      },
      "source": [
        "train_data.shape"
      ],
      "execution_count": 20,
      "outputs": [
        {
          "output_type": "execute_result",
          "data": {
            "text/plain": [
              "(721, 8)"
            ]
          },
          "metadata": {
            "tags": []
          },
          "execution_count": 20
        }
      ]
    },
    {
      "cell_type": "markdown",
      "metadata": {
        "id": "IYUyVzDnYWdj"
      },
      "source": [
        "## **Building Model**"
      ]
    },
    {
      "cell_type": "code",
      "metadata": {
        "id": "rtLpK-PFbceh"
      },
      "source": [
        "from keras import models, layers, regularizers\n",
        "\n",
        "input_tensor = layers.Input(shape = (train_data.shape[-1],))\n",
        "p = layers.Dense(64, activation = 'relu') (input_tensor)\n",
        "\n",
        "q = layers.Dense(32, activation = 'relu') (p)\n",
        "\n",
        "r = layers.Dense(16, activation = 'relu') (q)\n",
        "\n",
        "s = layers.Dense(8, activation = 'relu') (r)\n",
        "\n",
        "output_tensor = layers.Dense(1) (s)\n",
        "\n",
        "\n",
        "\n",
        "modelCo2 = models.Model(inputs = input_tensor, outputs = output_tensor)"
      ],
      "execution_count": 27,
      "outputs": []
    },
    {
      "cell_type": "markdown",
      "metadata": {
        "id": "B2OkS7UbYZ28"
      },
      "source": [
        "## **Compiling Model**"
      ]
    },
    {
      "cell_type": "code",
      "metadata": {
        "id": "9qLNTrIXeOxA"
      },
      "source": [
        "modelCo2.compile(optimizer = 'rmsprop',\n",
        "                 loss = 'mse',\n",
        "                 metrics = ['mae'])"
      ],
      "execution_count": 28,
      "outputs": []
    },
    {
      "cell_type": "markdown",
      "metadata": {
        "id": "h3QLysN3Yd-9"
      },
      "source": [
        "## **Training Model**"
      ]
    },
    {
      "cell_type": "code",
      "metadata": {
        "colab": {
          "base_uri": "https://localhost:8080/"
        },
        "id": "E1s5jQpqeO2T",
        "outputId": "1e07ce30-456a-435c-d165-55239eb72a74"
      },
      "source": [
        "modelCo2.fit(partial_train_data,\n",
        "             partial_train_values,\n",
        "             epochs = 200,\n",
        "             batch_size = 16,\n",
        "             verbose = 1,\n",
        "             validation_data = (val_data, val_values))"
      ],
      "execution_count": 29,
      "outputs": [
        {
          "output_type": "stream",
          "text": [
            "Epoch 1/200\n",
            "33/33 [==============================] - 1s 8ms/step - loss: 1459.5973 - mae: 34.4023 - val_loss: 1127.1613 - val_mae: 30.0002\n",
            "Epoch 2/200\n",
            "33/33 [==============================] - 0s 3ms/step - loss: 938.7345 - mae: 26.5449 - val_loss: 459.4014 - val_mae: 17.8480\n",
            "Epoch 3/200\n",
            "33/33 [==============================] - 0s 3ms/step - loss: 399.4587 - mae: 15.9139 - val_loss: 223.5680 - val_mae: 11.9403\n",
            "Epoch 4/200\n",
            "33/33 [==============================] - 0s 3ms/step - loss: 239.0148 - mae: 12.5015 - val_loss: 207.5934 - val_mae: 11.6924\n",
            "Epoch 5/200\n",
            "33/33 [==============================] - 0s 3ms/step - loss: 196.6470 - mae: 11.5635 - val_loss: 196.7277 - val_mae: 11.4972\n",
            "Epoch 6/200\n",
            "33/33 [==============================] - 0s 3ms/step - loss: 189.2250 - mae: 11.3153 - val_loss: 184.9861 - val_mae: 11.1975\n",
            "Epoch 7/200\n",
            "33/33 [==============================] - 0s 3ms/step - loss: 175.5702 - mae: 10.7298 - val_loss: 175.4019 - val_mae: 10.8565\n",
            "Epoch 8/200\n",
            "33/33 [==============================] - 0s 3ms/step - loss: 182.8188 - mae: 11.0015 - val_loss: 168.3659 - val_mae: 10.5098\n",
            "Epoch 9/200\n",
            "33/33 [==============================] - 0s 3ms/step - loss: 161.0540 - mae: 10.4784 - val_loss: 161.0970 - val_mae: 10.2572\n",
            "Epoch 10/200\n",
            "33/33 [==============================] - 0s 3ms/step - loss: 156.9167 - mae: 10.1850 - val_loss: 153.7344 - val_mae: 10.2406\n",
            "Epoch 11/200\n",
            "33/33 [==============================] - 0s 3ms/step - loss: 154.5800 - mae: 10.1315 - val_loss: 152.4232 - val_mae: 10.2567\n",
            "Epoch 12/200\n",
            "33/33 [==============================] - 0s 3ms/step - loss: 144.8079 - mae: 9.7054 - val_loss: 143.6784 - val_mae: 9.9614\n",
            "Epoch 13/200\n",
            "33/33 [==============================] - 0s 3ms/step - loss: 149.1126 - mae: 9.9135 - val_loss: 143.5900 - val_mae: 9.9808\n",
            "Epoch 14/200\n",
            "33/33 [==============================] - 0s 3ms/step - loss: 154.6788 - mae: 10.0964 - val_loss: 136.4027 - val_mae: 9.6812\n",
            "Epoch 15/200\n",
            "33/33 [==============================] - 0s 3ms/step - loss: 128.5262 - mae: 9.1538 - val_loss: 135.4985 - val_mae: 9.7149\n",
            "Epoch 16/200\n",
            "33/33 [==============================] - 0s 3ms/step - loss: 134.2099 - mae: 9.3215 - val_loss: 123.3843 - val_mae: 9.1844\n",
            "Epoch 17/200\n",
            "33/33 [==============================] - 0s 3ms/step - loss: 117.3536 - mae: 8.6379 - val_loss: 131.7140 - val_mae: 9.5785\n",
            "Epoch 18/200\n",
            "33/33 [==============================] - 0s 3ms/step - loss: 130.3469 - mae: 9.3699 - val_loss: 118.2624 - val_mae: 9.0047\n",
            "Epoch 19/200\n",
            "33/33 [==============================] - 0s 3ms/step - loss: 115.6191 - mae: 8.7375 - val_loss: 114.4776 - val_mae: 8.7281\n",
            "Epoch 20/200\n",
            "33/33 [==============================] - 0s 4ms/step - loss: 120.5486 - mae: 8.6985 - val_loss: 114.7011 - val_mae: 8.6413\n",
            "Epoch 21/200\n",
            "33/33 [==============================] - 0s 4ms/step - loss: 123.9613 - mae: 9.0078 - val_loss: 105.8366 - val_mae: 8.4143\n",
            "Epoch 22/200\n",
            "33/33 [==============================] - 0s 3ms/step - loss: 115.9421 - mae: 8.5994 - val_loss: 101.5671 - val_mae: 8.2841\n",
            "Epoch 23/200\n",
            "33/33 [==============================] - 0s 3ms/step - loss: 118.6691 - mae: 8.6818 - val_loss: 98.3099 - val_mae: 8.1139\n",
            "Epoch 24/200\n",
            "33/33 [==============================] - 0s 3ms/step - loss: 119.8684 - mae: 8.8090 - val_loss: 101.0607 - val_mae: 8.0683\n",
            "Epoch 25/200\n",
            "33/33 [==============================] - 0s 3ms/step - loss: 102.1861 - mae: 7.9686 - val_loss: 96.0737 - val_mae: 7.8973\n",
            "Epoch 26/200\n",
            "33/33 [==============================] - 0s 3ms/step - loss: 101.7583 - mae: 8.1543 - val_loss: 91.7271 - val_mae: 7.6999\n",
            "Epoch 27/200\n",
            "33/33 [==============================] - 0s 3ms/step - loss: 93.6966 - mae: 7.8084 - val_loss: 86.7006 - val_mae: 7.5014\n",
            "Epoch 28/200\n",
            "33/33 [==============================] - 0s 4ms/step - loss: 89.9929 - mae: 7.5535 - val_loss: 93.2826 - val_mae: 7.5720\n",
            "Epoch 29/200\n",
            "33/33 [==============================] - 0s 3ms/step - loss: 94.7695 - mae: 7.6106 - val_loss: 79.8177 - val_mae: 7.2016\n",
            "Epoch 30/200\n",
            "33/33 [==============================] - 0s 3ms/step - loss: 93.5770 - mae: 7.6197 - val_loss: 76.3175 - val_mae: 6.9619\n",
            "Epoch 31/200\n",
            "33/33 [==============================] - 0s 3ms/step - loss: 71.9091 - mae: 6.6334 - val_loss: 74.8907 - val_mae: 6.8060\n",
            "Epoch 32/200\n",
            "33/33 [==============================] - 0s 3ms/step - loss: 64.5463 - mae: 6.1860 - val_loss: 72.2877 - val_mae: 6.6490\n",
            "Epoch 33/200\n",
            "33/33 [==============================] - 0s 3ms/step - loss: 75.3584 - mae: 6.8030 - val_loss: 68.6422 - val_mae: 6.3994\n",
            "Epoch 34/200\n",
            "33/33 [==============================] - 0s 3ms/step - loss: 64.1498 - mae: 6.0942 - val_loss: 64.8328 - val_mae: 6.2141\n",
            "Epoch 35/200\n",
            "33/33 [==============================] - 0s 3ms/step - loss: 60.7085 - mae: 6.1276 - val_loss: 63.4347 - val_mae: 6.1639\n",
            "Epoch 36/200\n",
            "33/33 [==============================] - 0s 4ms/step - loss: 63.9826 - mae: 6.0889 - val_loss: 63.4773 - val_mae: 6.0047\n",
            "Epoch 37/200\n",
            "33/33 [==============================] - 0s 3ms/step - loss: 54.4541 - mae: 5.7709 - val_loss: 57.7188 - val_mae: 5.8085\n",
            "Epoch 38/200\n",
            "33/33 [==============================] - 0s 3ms/step - loss: 58.1743 - mae: 5.8834 - val_loss: 69.9280 - val_mae: 6.2369\n",
            "Epoch 39/200\n",
            "33/33 [==============================] - 0s 3ms/step - loss: 51.2315 - mae: 5.4024 - val_loss: 56.9480 - val_mae: 5.6132\n",
            "Epoch 40/200\n",
            "33/33 [==============================] - 0s 3ms/step - loss: 44.3159 - mae: 4.9918 - val_loss: 60.4318 - val_mae: 5.8654\n",
            "Epoch 41/200\n",
            "33/33 [==============================] - 0s 4ms/step - loss: 48.2397 - mae: 5.2510 - val_loss: 56.3977 - val_mae: 5.5729\n",
            "Epoch 42/200\n",
            "33/33 [==============================] - 0s 3ms/step - loss: 40.5035 - mae: 4.7867 - val_loss: 56.5228 - val_mae: 5.6570\n",
            "Epoch 43/200\n",
            "33/33 [==============================] - 0s 3ms/step - loss: 43.2329 - mae: 4.9080 - val_loss: 53.0688 - val_mae: 5.4958\n",
            "Epoch 44/200\n",
            "33/33 [==============================] - 0s 3ms/step - loss: 38.0026 - mae: 4.7336 - val_loss: 54.7611 - val_mae: 5.5044\n",
            "Epoch 45/200\n",
            "33/33 [==============================] - 0s 3ms/step - loss: 39.0591 - mae: 4.7933 - val_loss: 50.7866 - val_mae: 5.2912\n",
            "Epoch 46/200\n",
            "33/33 [==============================] - 0s 3ms/step - loss: 35.0523 - mae: 4.5325 - val_loss: 67.2365 - val_mae: 6.0491\n",
            "Epoch 47/200\n",
            "33/33 [==============================] - 0s 3ms/step - loss: 43.6802 - mae: 4.9732 - val_loss: 46.3252 - val_mae: 5.1208\n",
            "Epoch 48/200\n",
            "33/33 [==============================] - 0s 3ms/step - loss: 40.2405 - mae: 4.9152 - val_loss: 49.2402 - val_mae: 5.2902\n",
            "Epoch 49/200\n",
            "33/33 [==============================] - 0s 3ms/step - loss: 34.9754 - mae: 4.5164 - val_loss: 52.9869 - val_mae: 5.4885\n",
            "Epoch 50/200\n",
            "33/33 [==============================] - 0s 3ms/step - loss: 34.3262 - mae: 4.5387 - val_loss: 46.4214 - val_mae: 5.0268\n",
            "Epoch 51/200\n",
            "33/33 [==============================] - 0s 3ms/step - loss: 31.4028 - mae: 4.1764 - val_loss: 55.8259 - val_mae: 5.6938\n",
            "Epoch 52/200\n",
            "33/33 [==============================] - 0s 3ms/step - loss: 32.3101 - mae: 4.3050 - val_loss: 58.7050 - val_mae: 5.8308\n",
            "Epoch 53/200\n",
            "33/33 [==============================] - 0s 3ms/step - loss: 36.4249 - mae: 4.6398 - val_loss: 44.9772 - val_mae: 4.9704\n",
            "Epoch 54/200\n",
            "33/33 [==============================] - 0s 3ms/step - loss: 29.1210 - mae: 4.1589 - val_loss: 47.5347 - val_mae: 5.0574\n",
            "Epoch 55/200\n",
            "33/33 [==============================] - 0s 3ms/step - loss: 32.2809 - mae: 4.2929 - val_loss: 58.2358 - val_mae: 5.5595\n",
            "Epoch 56/200\n",
            "33/33 [==============================] - 0s 3ms/step - loss: 29.0004 - mae: 4.0821 - val_loss: 42.4225 - val_mae: 4.9458\n",
            "Epoch 57/200\n",
            "33/33 [==============================] - 0s 3ms/step - loss: 33.8592 - mae: 4.3600 - val_loss: 43.4887 - val_mae: 4.8706\n",
            "Epoch 58/200\n",
            "33/33 [==============================] - 0s 3ms/step - loss: 27.3177 - mae: 4.1042 - val_loss: 65.0491 - val_mae: 6.1275\n",
            "Epoch 59/200\n",
            "33/33 [==============================] - 0s 4ms/step - loss: 27.8207 - mae: 4.0078 - val_loss: 48.0535 - val_mae: 5.0393\n",
            "Epoch 60/200\n",
            "33/33 [==============================] - 0s 3ms/step - loss: 30.9240 - mae: 4.2545 - val_loss: 49.3114 - val_mae: 5.2900\n",
            "Epoch 61/200\n",
            "33/33 [==============================] - 0s 3ms/step - loss: 29.5272 - mae: 4.1384 - val_loss: 41.2648 - val_mae: 4.8090\n",
            "Epoch 62/200\n",
            "33/33 [==============================] - 0s 3ms/step - loss: 28.0488 - mae: 4.0038 - val_loss: 40.7621 - val_mae: 4.8614\n",
            "Epoch 63/200\n",
            "33/33 [==============================] - 0s 3ms/step - loss: 32.2571 - mae: 4.4712 - val_loss: 41.8540 - val_mae: 4.6804\n",
            "Epoch 64/200\n",
            "33/33 [==============================] - 0s 3ms/step - loss: 28.9813 - mae: 4.0572 - val_loss: 58.9465 - val_mae: 5.6571\n",
            "Epoch 65/200\n",
            "33/33 [==============================] - 0s 3ms/step - loss: 27.2172 - mae: 3.9028 - val_loss: 41.7660 - val_mae: 4.7741\n",
            "Epoch 66/200\n",
            "33/33 [==============================] - 0s 3ms/step - loss: 25.6071 - mae: 3.9050 - val_loss: 43.1585 - val_mae: 4.8288\n",
            "Epoch 67/200\n",
            "33/33 [==============================] - 0s 3ms/step - loss: 27.3024 - mae: 3.9525 - val_loss: 49.3870 - val_mae: 5.2061\n",
            "Epoch 68/200\n",
            "33/33 [==============================] - 0s 3ms/step - loss: 28.6931 - mae: 4.0430 - val_loss: 42.6356 - val_mae: 4.7273\n",
            "Epoch 69/200\n",
            "33/33 [==============================] - 0s 3ms/step - loss: 27.5725 - mae: 4.0826 - val_loss: 48.2181 - val_mae: 5.1448\n",
            "Epoch 70/200\n",
            "33/33 [==============================] - 0s 3ms/step - loss: 30.3849 - mae: 4.1091 - val_loss: 45.8420 - val_mae: 5.1821\n",
            "Epoch 71/200\n",
            "33/33 [==============================] - 0s 3ms/step - loss: 26.1148 - mae: 3.9610 - val_loss: 42.9724 - val_mae: 4.7912\n",
            "Epoch 72/200\n",
            "33/33 [==============================] - 0s 3ms/step - loss: 28.2678 - mae: 4.0061 - val_loss: 50.0983 - val_mae: 5.0600\n",
            "Epoch 73/200\n",
            "33/33 [==============================] - 0s 3ms/step - loss: 26.7782 - mae: 3.8973 - val_loss: 41.1391 - val_mae: 4.7746\n",
            "Epoch 74/200\n",
            "33/33 [==============================] - 0s 3ms/step - loss: 24.2541 - mae: 3.7609 - val_loss: 42.1160 - val_mae: 4.8233\n",
            "Epoch 75/200\n",
            "33/33 [==============================] - 0s 3ms/step - loss: 27.2729 - mae: 3.9908 - val_loss: 46.0728 - val_mae: 4.9526\n",
            "Epoch 76/200\n",
            "33/33 [==============================] - 0s 3ms/step - loss: 24.0481 - mae: 3.8201 - val_loss: 60.0413 - val_mae: 5.8465\n",
            "Epoch 77/200\n",
            "33/33 [==============================] - 0s 3ms/step - loss: 25.8102 - mae: 3.9071 - val_loss: 50.2759 - val_mae: 5.2571\n",
            "Epoch 78/200\n",
            "33/33 [==============================] - 0s 3ms/step - loss: 22.1907 - mae: 3.6480 - val_loss: 39.5241 - val_mae: 4.6042\n",
            "Epoch 79/200\n",
            "33/33 [==============================] - 0s 3ms/step - loss: 22.1508 - mae: 3.7164 - val_loss: 48.0972 - val_mae: 5.3491\n",
            "Epoch 80/200\n",
            "33/33 [==============================] - 0s 3ms/step - loss: 26.7131 - mae: 3.9784 - val_loss: 41.1405 - val_mae: 4.6776\n",
            "Epoch 81/200\n",
            "33/33 [==============================] - 0s 3ms/step - loss: 21.5375 - mae: 3.4999 - val_loss: 39.2150 - val_mae: 4.5597\n",
            "Epoch 82/200\n",
            "33/33 [==============================] - 0s 3ms/step - loss: 24.0205 - mae: 3.7085 - val_loss: 40.4261 - val_mae: 4.5856\n",
            "Epoch 83/200\n",
            "33/33 [==============================] - 0s 3ms/step - loss: 26.1071 - mae: 3.8858 - val_loss: 42.9972 - val_mae: 4.8564\n",
            "Epoch 84/200\n",
            "33/33 [==============================] - 0s 3ms/step - loss: 23.1672 - mae: 3.7943 - val_loss: 43.8371 - val_mae: 4.9270\n",
            "Epoch 85/200\n",
            "33/33 [==============================] - 0s 3ms/step - loss: 21.6805 - mae: 3.6785 - val_loss: 43.3744 - val_mae: 4.7001\n",
            "Epoch 86/200\n",
            "33/33 [==============================] - 0s 3ms/step - loss: 25.1113 - mae: 3.7755 - val_loss: 43.7821 - val_mae: 4.8488\n",
            "Epoch 87/200\n",
            "33/33 [==============================] - 0s 3ms/step - loss: 23.4824 - mae: 3.7251 - val_loss: 44.6502 - val_mae: 4.8739\n",
            "Epoch 88/200\n",
            "33/33 [==============================] - 0s 3ms/step - loss: 20.9607 - mae: 3.5354 - val_loss: 45.0628 - val_mae: 4.9668\n",
            "Epoch 89/200\n",
            "33/33 [==============================] - 0s 3ms/step - loss: 23.7935 - mae: 3.6745 - val_loss: 42.9625 - val_mae: 4.8119\n",
            "Epoch 90/200\n",
            "33/33 [==============================] - 0s 3ms/step - loss: 24.7138 - mae: 3.8190 - val_loss: 41.1392 - val_mae: 4.6294\n",
            "Epoch 91/200\n",
            "33/33 [==============================] - 0s 3ms/step - loss: 23.2955 - mae: 3.7436 - val_loss: 37.1351 - val_mae: 4.5630\n",
            "Epoch 92/200\n",
            "33/33 [==============================] - 0s 3ms/step - loss: 21.3016 - mae: 3.4577 - val_loss: 36.6507 - val_mae: 4.3928\n",
            "Epoch 93/200\n",
            "33/33 [==============================] - 0s 3ms/step - loss: 21.8540 - mae: 3.5687 - val_loss: 44.9322 - val_mae: 4.8604\n",
            "Epoch 94/200\n",
            "33/33 [==============================] - 0s 3ms/step - loss: 23.3457 - mae: 3.6142 - val_loss: 49.5434 - val_mae: 5.2634\n",
            "Epoch 95/200\n",
            "33/33 [==============================] - 0s 3ms/step - loss: 21.5385 - mae: 3.5381 - val_loss: 38.0423 - val_mae: 4.5615\n",
            "Epoch 96/200\n",
            "33/33 [==============================] - 0s 3ms/step - loss: 20.5940 - mae: 3.4259 - val_loss: 39.4061 - val_mae: 4.5981\n",
            "Epoch 97/200\n",
            "33/33 [==============================] - 0s 3ms/step - loss: 21.0521 - mae: 3.5836 - val_loss: 38.4326 - val_mae: 4.6280\n",
            "Epoch 98/200\n",
            "33/33 [==============================] - 0s 3ms/step - loss: 23.6335 - mae: 3.8071 - val_loss: 58.1943 - val_mae: 5.9417\n",
            "Epoch 99/200\n",
            "33/33 [==============================] - 0s 4ms/step - loss: 22.3918 - mae: 3.5476 - val_loss: 44.5694 - val_mae: 4.7844\n",
            "Epoch 100/200\n",
            "33/33 [==============================] - 0s 3ms/step - loss: 22.4001 - mae: 3.5386 - val_loss: 39.1443 - val_mae: 4.5262\n",
            "Epoch 101/200\n",
            "33/33 [==============================] - 0s 3ms/step - loss: 21.0827 - mae: 3.4833 - val_loss: 40.1785 - val_mae: 4.5922\n",
            "Epoch 102/200\n",
            "33/33 [==============================] - 0s 3ms/step - loss: 20.0368 - mae: 3.4549 - val_loss: 42.4094 - val_mae: 4.7581\n",
            "Epoch 103/200\n",
            "33/33 [==============================] - 0s 3ms/step - loss: 19.7874 - mae: 3.4178 - val_loss: 41.7236 - val_mae: 4.6621\n",
            "Epoch 104/200\n",
            "33/33 [==============================] - 0s 3ms/step - loss: 21.3511 - mae: 3.5900 - val_loss: 38.4459 - val_mae: 4.5728\n",
            "Epoch 105/200\n",
            "33/33 [==============================] - 0s 3ms/step - loss: 21.5366 - mae: 3.5347 - val_loss: 43.6213 - val_mae: 4.8753\n",
            "Epoch 106/200\n",
            "33/33 [==============================] - 0s 3ms/step - loss: 19.5914 - mae: 3.4025 - val_loss: 51.2392 - val_mae: 5.3327\n",
            "Epoch 107/200\n",
            "33/33 [==============================] - 0s 3ms/step - loss: 26.8169 - mae: 3.8219 - val_loss: 37.7240 - val_mae: 4.5250\n",
            "Epoch 108/200\n",
            "33/33 [==============================] - 0s 3ms/step - loss: 21.8182 - mae: 3.5844 - val_loss: 37.1629 - val_mae: 4.4904\n",
            "Epoch 109/200\n",
            "33/33 [==============================] - 0s 4ms/step - loss: 21.6138 - mae: 3.6372 - val_loss: 55.4424 - val_mae: 5.5840\n",
            "Epoch 110/200\n",
            "33/33 [==============================] - 0s 3ms/step - loss: 21.8077 - mae: 3.5527 - val_loss: 34.9413 - val_mae: 4.3603\n",
            "Epoch 111/200\n",
            "33/33 [==============================] - 0s 3ms/step - loss: 19.0901 - mae: 3.3899 - val_loss: 41.1850 - val_mae: 4.6161\n",
            "Epoch 112/200\n",
            "33/33 [==============================] - 0s 3ms/step - loss: 20.0824 - mae: 3.5106 - val_loss: 42.8411 - val_mae: 4.7838\n",
            "Epoch 113/200\n",
            "33/33 [==============================] - 0s 3ms/step - loss: 19.4144 - mae: 3.4134 - val_loss: 38.0084 - val_mae: 4.4626\n",
            "Epoch 114/200\n",
            "33/33 [==============================] - 0s 3ms/step - loss: 19.4011 - mae: 3.3263 - val_loss: 34.2332 - val_mae: 4.2582\n",
            "Epoch 115/200\n",
            "33/33 [==============================] - 0s 3ms/step - loss: 20.1505 - mae: 3.4142 - val_loss: 44.1055 - val_mae: 4.8180\n",
            "Epoch 116/200\n",
            "33/33 [==============================] - 0s 3ms/step - loss: 20.1495 - mae: 3.3796 - val_loss: 40.5953 - val_mae: 4.6478\n",
            "Epoch 117/200\n",
            "33/33 [==============================] - 0s 3ms/step - loss: 18.6217 - mae: 3.3838 - val_loss: 39.4547 - val_mae: 4.5987\n",
            "Epoch 118/200\n",
            "33/33 [==============================] - 0s 3ms/step - loss: 19.6254 - mae: 3.3975 - val_loss: 44.0087 - val_mae: 4.9259\n",
            "Epoch 119/200\n",
            "33/33 [==============================] - 0s 3ms/step - loss: 19.7292 - mae: 3.3731 - val_loss: 42.8435 - val_mae: 4.6817\n",
            "Epoch 120/200\n",
            "33/33 [==============================] - 0s 3ms/step - loss: 20.9809 - mae: 3.4994 - val_loss: 39.5526 - val_mae: 4.6637\n",
            "Epoch 121/200\n",
            "33/33 [==============================] - 0s 4ms/step - loss: 19.3972 - mae: 3.3845 - val_loss: 45.0515 - val_mae: 4.9676\n",
            "Epoch 122/200\n",
            "33/33 [==============================] - 0s 3ms/step - loss: 20.1529 - mae: 3.4569 - val_loss: 47.8056 - val_mae: 5.0430\n",
            "Epoch 123/200\n",
            "33/33 [==============================] - 0s 3ms/step - loss: 20.1082 - mae: 3.3755 - val_loss: 39.2157 - val_mae: 4.6002\n",
            "Epoch 124/200\n",
            "33/33 [==============================] - 0s 3ms/step - loss: 20.3641 - mae: 3.5212 - val_loss: 34.4412 - val_mae: 4.3201\n",
            "Epoch 125/200\n",
            "33/33 [==============================] - 0s 3ms/step - loss: 17.9062 - mae: 3.2821 - val_loss: 39.4295 - val_mae: 4.5957\n",
            "Epoch 126/200\n",
            "33/33 [==============================] - 0s 3ms/step - loss: 15.7855 - mae: 3.1074 - val_loss: 34.4959 - val_mae: 4.2745\n",
            "Epoch 127/200\n",
            "33/33 [==============================] - 0s 3ms/step - loss: 16.5494 - mae: 3.1216 - val_loss: 61.3270 - val_mae: 6.0567\n",
            "Epoch 128/200\n",
            "33/33 [==============================] - 0s 3ms/step - loss: 22.6497 - mae: 3.5434 - val_loss: 37.8714 - val_mae: 4.5516\n",
            "Epoch 129/200\n",
            "33/33 [==============================] - 0s 3ms/step - loss: 21.6045 - mae: 3.5574 - val_loss: 36.0535 - val_mae: 4.3791\n",
            "Epoch 130/200\n",
            "33/33 [==============================] - 0s 4ms/step - loss: 18.8917 - mae: 3.3367 - val_loss: 46.1862 - val_mae: 4.8654\n",
            "Epoch 131/200\n",
            "33/33 [==============================] - 0s 3ms/step - loss: 17.2705 - mae: 3.1902 - val_loss: 38.1431 - val_mae: 4.4745\n",
            "Epoch 132/200\n",
            "33/33 [==============================] - 0s 3ms/step - loss: 15.9167 - mae: 3.0858 - val_loss: 34.6972 - val_mae: 4.2896\n",
            "Epoch 133/200\n",
            "33/33 [==============================] - 0s 3ms/step - loss: 18.9739 - mae: 3.3738 - val_loss: 38.1072 - val_mae: 4.5991\n",
            "Epoch 134/200\n",
            "33/33 [==============================] - 0s 3ms/step - loss: 18.4161 - mae: 3.2393 - val_loss: 36.0640 - val_mae: 4.3946\n",
            "Epoch 135/200\n",
            "33/33 [==============================] - 0s 3ms/step - loss: 16.9375 - mae: 3.0972 - val_loss: 44.8029 - val_mae: 5.1634\n",
            "Epoch 136/200\n",
            "33/33 [==============================] - 0s 3ms/step - loss: 17.4173 - mae: 3.1936 - val_loss: 53.8050 - val_mae: 5.6446\n",
            "Epoch 137/200\n",
            "33/33 [==============================] - 0s 4ms/step - loss: 19.9306 - mae: 3.3970 - val_loss: 34.9126 - val_mae: 4.3868\n",
            "Epoch 138/200\n",
            "33/33 [==============================] - 0s 3ms/step - loss: 15.4678 - mae: 3.0988 - val_loss: 40.8974 - val_mae: 4.7693\n",
            "Epoch 139/200\n",
            "33/33 [==============================] - 0s 4ms/step - loss: 16.1817 - mae: 3.0735 - val_loss: 33.5119 - val_mae: 4.1767\n",
            "Epoch 140/200\n",
            "33/33 [==============================] - 0s 3ms/step - loss: 18.1776 - mae: 3.2121 - val_loss: 38.1899 - val_mae: 4.4799\n",
            "Epoch 141/200\n",
            "33/33 [==============================] - 0s 3ms/step - loss: 16.0222 - mae: 3.0164 - val_loss: 44.8332 - val_mae: 5.0414\n",
            "Epoch 142/200\n",
            "33/33 [==============================] - 0s 3ms/step - loss: 15.6125 - mae: 3.0127 - val_loss: 36.8744 - val_mae: 4.4788\n",
            "Epoch 143/200\n",
            "33/33 [==============================] - 0s 3ms/step - loss: 15.1961 - mae: 2.8665 - val_loss: 37.6258 - val_mae: 4.5229\n",
            "Epoch 144/200\n",
            "33/33 [==============================] - 0s 3ms/step - loss: 14.6880 - mae: 2.9766 - val_loss: 48.6171 - val_mae: 5.3571\n",
            "Epoch 145/200\n",
            "33/33 [==============================] - 0s 3ms/step - loss: 16.8951 - mae: 3.1454 - val_loss: 46.1921 - val_mae: 5.1074\n",
            "Epoch 146/200\n",
            "33/33 [==============================] - 0s 4ms/step - loss: 19.0449 - mae: 3.3300 - val_loss: 33.9841 - val_mae: 4.2530\n",
            "Epoch 147/200\n",
            "33/33 [==============================] - 0s 3ms/step - loss: 15.0908 - mae: 3.0286 - val_loss: 37.0154 - val_mae: 4.4837\n",
            "Epoch 148/200\n",
            "33/33 [==============================] - 0s 4ms/step - loss: 15.7220 - mae: 3.0235 - val_loss: 35.3782 - val_mae: 4.3621\n",
            "Epoch 149/200\n",
            "33/33 [==============================] - 0s 3ms/step - loss: 15.7633 - mae: 3.0103 - val_loss: 42.1926 - val_mae: 4.8719\n",
            "Epoch 150/200\n",
            "33/33 [==============================] - 0s 3ms/step - loss: 14.6870 - mae: 2.9389 - val_loss: 34.0635 - val_mae: 4.2125\n",
            "Epoch 151/200\n",
            "33/33 [==============================] - 0s 3ms/step - loss: 14.0311 - mae: 2.8473 - val_loss: 35.0567 - val_mae: 4.3767\n",
            "Epoch 152/200\n",
            "33/33 [==============================] - 0s 3ms/step - loss: 16.2615 - mae: 3.1009 - val_loss: 36.4691 - val_mae: 4.4083\n",
            "Epoch 153/200\n",
            "33/33 [==============================] - 0s 3ms/step - loss: 14.9272 - mae: 2.8844 - val_loss: 41.6086 - val_mae: 4.7591\n",
            "Epoch 154/200\n",
            "33/33 [==============================] - 0s 3ms/step - loss: 14.9294 - mae: 3.0346 - val_loss: 44.4478 - val_mae: 4.9137\n",
            "Epoch 155/200\n",
            "33/33 [==============================] - 0s 3ms/step - loss: 16.1794 - mae: 3.0806 - val_loss: 51.9145 - val_mae: 5.4314\n",
            "Epoch 156/200\n",
            "33/33 [==============================] - 0s 3ms/step - loss: 15.6713 - mae: 3.0977 - val_loss: 46.1792 - val_mae: 5.1031\n",
            "Epoch 157/200\n",
            "33/33 [==============================] - 0s 3ms/step - loss: 15.0317 - mae: 2.8432 - val_loss: 40.0903 - val_mae: 4.6490\n",
            "Epoch 158/200\n",
            "33/33 [==============================] - 0s 3ms/step - loss: 17.0216 - mae: 3.1308 - val_loss: 33.1368 - val_mae: 4.1998\n",
            "Epoch 159/200\n",
            "33/33 [==============================] - 0s 3ms/step - loss: 15.8127 - mae: 3.1002 - val_loss: 45.6381 - val_mae: 5.0973\n",
            "Epoch 160/200\n",
            "33/33 [==============================] - 0s 3ms/step - loss: 17.3083 - mae: 3.1877 - val_loss: 43.3312 - val_mae: 4.9979\n",
            "Epoch 161/200\n",
            "33/33 [==============================] - 0s 3ms/step - loss: 14.8907 - mae: 2.9296 - val_loss: 42.4692 - val_mae: 4.8825\n",
            "Epoch 162/200\n",
            "33/33 [==============================] - 0s 3ms/step - loss: 15.5927 - mae: 2.9391 - val_loss: 40.4405 - val_mae: 4.6988\n",
            "Epoch 163/200\n",
            "33/33 [==============================] - 0s 3ms/step - loss: 15.7172 - mae: 3.1497 - val_loss: 33.6219 - val_mae: 4.2310\n",
            "Epoch 164/200\n",
            "33/33 [==============================] - 0s 3ms/step - loss: 17.0506 - mae: 3.1440 - val_loss: 47.2512 - val_mae: 5.1624\n",
            "Epoch 165/200\n",
            "33/33 [==============================] - 0s 3ms/step - loss: 12.9193 - mae: 2.7674 - val_loss: 37.7740 - val_mae: 4.5276\n",
            "Epoch 166/200\n",
            "33/33 [==============================] - 0s 3ms/step - loss: 13.8048 - mae: 2.8609 - val_loss: 34.0525 - val_mae: 4.2089\n",
            "Epoch 167/200\n",
            "33/33 [==============================] - 0s 3ms/step - loss: 15.3134 - mae: 3.0107 - val_loss: 41.2031 - val_mae: 4.6539\n",
            "Epoch 168/200\n",
            "33/33 [==============================] - 0s 3ms/step - loss: 14.5969 - mae: 2.9804 - val_loss: 45.6513 - val_mae: 5.2670\n",
            "Epoch 169/200\n",
            "33/33 [==============================] - 0s 3ms/step - loss: 14.6063 - mae: 2.9690 - val_loss: 58.4718 - val_mae: 5.5431\n",
            "Epoch 170/200\n",
            "33/33 [==============================] - 0s 3ms/step - loss: 18.8306 - mae: 3.1918 - val_loss: 41.4435 - val_mae: 4.8577\n",
            "Epoch 171/200\n",
            "33/33 [==============================] - 0s 3ms/step - loss: 14.3038 - mae: 2.9241 - val_loss: 35.7214 - val_mae: 4.4581\n",
            "Epoch 172/200\n",
            "33/33 [==============================] - 0s 3ms/step - loss: 16.4847 - mae: 3.0783 - val_loss: 37.3758 - val_mae: 4.4938\n",
            "Epoch 173/200\n",
            "33/33 [==============================] - 0s 3ms/step - loss: 13.9470 - mae: 2.8883 - val_loss: 39.2409 - val_mae: 4.6302\n",
            "Epoch 174/200\n",
            "33/33 [==============================] - 0s 3ms/step - loss: 14.9918 - mae: 2.9225 - val_loss: 33.9643 - val_mae: 4.2913\n",
            "Epoch 175/200\n",
            "33/33 [==============================] - 0s 3ms/step - loss: 14.8597 - mae: 2.9234 - val_loss: 36.7367 - val_mae: 4.4229\n",
            "Epoch 176/200\n",
            "33/33 [==============================] - 0s 3ms/step - loss: 13.7736 - mae: 2.8418 - val_loss: 45.3930 - val_mae: 4.9437\n",
            "Epoch 177/200\n",
            "33/33 [==============================] - 0s 3ms/step - loss: 13.9885 - mae: 2.8475 - val_loss: 38.5503 - val_mae: 4.6129\n",
            "Epoch 178/200\n",
            "33/33 [==============================] - 0s 3ms/step - loss: 13.5717 - mae: 2.8751 - val_loss: 49.2081 - val_mae: 5.1225\n",
            "Epoch 179/200\n",
            "33/33 [==============================] - 0s 3ms/step - loss: 15.7815 - mae: 3.0301 - val_loss: 35.9590 - val_mae: 4.4193\n",
            "Epoch 180/200\n",
            "33/33 [==============================] - 0s 3ms/step - loss: 14.3116 - mae: 2.9181 - val_loss: 41.2667 - val_mae: 4.7193\n",
            "Epoch 181/200\n",
            "33/33 [==============================] - 0s 3ms/step - loss: 13.8373 - mae: 2.8526 - val_loss: 45.3582 - val_mae: 5.0265\n",
            "Epoch 182/200\n",
            "33/33 [==============================] - 0s 3ms/step - loss: 12.6584 - mae: 2.7094 - val_loss: 38.4485 - val_mae: 4.5302\n",
            "Epoch 183/200\n",
            "33/33 [==============================] - 0s 3ms/step - loss: 12.9825 - mae: 2.8492 - val_loss: 39.1590 - val_mae: 4.5883\n",
            "Epoch 184/200\n",
            "33/33 [==============================] - 0s 4ms/step - loss: 14.2277 - mae: 2.8783 - val_loss: 34.8279 - val_mae: 4.2272\n",
            "Epoch 185/200\n",
            "33/33 [==============================] - 0s 3ms/step - loss: 14.8634 - mae: 2.8575 - val_loss: 38.1381 - val_mae: 4.3933\n",
            "Epoch 186/200\n",
            "33/33 [==============================] - 0s 3ms/step - loss: 15.4992 - mae: 2.9643 - val_loss: 48.4721 - val_mae: 5.3223\n",
            "Epoch 187/200\n",
            "33/33 [==============================] - 0s 3ms/step - loss: 17.8786 - mae: 3.1824 - val_loss: 40.8062 - val_mae: 4.7276\n",
            "Epoch 188/200\n",
            "33/33 [==============================] - 0s 3ms/step - loss: 17.6128 - mae: 3.2008 - val_loss: 39.1811 - val_mae: 4.6371\n",
            "Epoch 189/200\n",
            "33/33 [==============================] - 0s 3ms/step - loss: 15.5951 - mae: 2.9608 - val_loss: 37.3779 - val_mae: 4.3392\n",
            "Epoch 190/200\n",
            "33/33 [==============================] - 0s 3ms/step - loss: 12.7220 - mae: 2.7131 - val_loss: 53.7172 - val_mae: 5.7673\n",
            "Epoch 191/200\n",
            "33/33 [==============================] - 0s 3ms/step - loss: 16.0104 - mae: 3.0354 - val_loss: 33.0741 - val_mae: 4.1999\n",
            "Epoch 192/200\n",
            "33/33 [==============================] - 0s 3ms/step - loss: 13.3447 - mae: 2.7800 - val_loss: 39.0627 - val_mae: 4.5900\n",
            "Epoch 193/200\n",
            "33/33 [==============================] - 0s 3ms/step - loss: 15.3477 - mae: 2.9399 - val_loss: 35.3163 - val_mae: 4.3778\n",
            "Epoch 194/200\n",
            "33/33 [==============================] - 0s 3ms/step - loss: 13.9910 - mae: 2.7397 - val_loss: 41.1162 - val_mae: 4.6940\n",
            "Epoch 195/200\n",
            "33/33 [==============================] - 0s 3ms/step - loss: 13.2078 - mae: 2.6946 - val_loss: 37.9023 - val_mae: 4.4934\n",
            "Epoch 196/200\n",
            "33/33 [==============================] - 0s 3ms/step - loss: 11.5453 - mae: 2.6216 - val_loss: 41.9360 - val_mae: 4.8664\n",
            "Epoch 197/200\n",
            "33/33 [==============================] - 0s 3ms/step - loss: 12.3573 - mae: 2.7300 - val_loss: 39.5091 - val_mae: 4.6413\n",
            "Epoch 198/200\n",
            "33/33 [==============================] - 0s 3ms/step - loss: 13.9389 - mae: 2.8520 - val_loss: 35.9220 - val_mae: 4.3814\n",
            "Epoch 199/200\n",
            "33/33 [==============================] - 0s 3ms/step - loss: 14.0492 - mae: 2.7902 - val_loss: 35.9553 - val_mae: 4.4112\n",
            "Epoch 200/200\n",
            "33/33 [==============================] - 0s 3ms/step - loss: 15.2230 - mae: 2.9994 - val_loss: 36.3466 - val_mae: 4.3061\n"
          ],
          "name": "stdout"
        },
        {
          "output_type": "execute_result",
          "data": {
            "text/plain": [
              "<tensorflow.python.keras.callbacks.History at 0x7f7486dff690>"
            ]
          },
          "metadata": {
            "tags": []
          },
          "execution_count": 29
        }
      ]
    },
    {
      "cell_type": "markdown",
      "metadata": {
        "id": "yS32O2JWYngB"
      },
      "source": [
        "## **Finalizing our Model & Evaluating on Test Data**"
      ]
    },
    {
      "cell_type": "code",
      "metadata": {
        "colab": {
          "base_uri": "https://localhost:8080/"
        },
        "id": "c0QcEXPUglcf",
        "outputId": "bf31e13d-54fc-4491-82d2-49a7eb8119c2"
      },
      "source": [
        "## Retraining it\n",
        "\n",
        "from keras import models, layers, regularizers\n",
        "\n",
        "input_tensor = layers.Input(shape = (train_data.shape[-1],))\n",
        "p = layers.Dense(64, activation = 'relu') (input_tensor)\n",
        "\n",
        "q = layers.Dense(32, activation = 'relu') (p)\n",
        "\n",
        "r = layers.Dense(16, activation = 'relu') (q)\n",
        "\n",
        "s = layers.Dense(8, activation = 'relu') (r)\n",
        "\n",
        "output_tensor = layers.Dense(1) (s)\n",
        "\n",
        "\n",
        "\n",
        "modelCo2 = models.Model(inputs = input_tensor, outputs = output_tensor)\n",
        "\n",
        "modelCo2.compile(optimizer = 'rmsprop',\n",
        "                 loss = 'mse',\n",
        "                 metrics = ['mae'])\n",
        "\n",
        "modelCo2.fit(train_data, train_values, epochs = 150, batch_size = 16, verbose = 0 )\n",
        "\n",
        "modelCo2.evaluate(test_data, test_values)"
      ],
      "execution_count": 30,
      "outputs": [
        {
          "output_type": "stream",
          "text": [
            "10/10 [==============================] - 0s 2ms/step - loss: 41.5245 - mae: 4.5391\n"
          ],
          "name": "stdout"
        },
        {
          "output_type": "execute_result",
          "data": {
            "text/plain": [
              "[41.52450180053711, 4.539087295532227]"
            ]
          },
          "metadata": {
            "tags": []
          },
          "execution_count": 30
        }
      ]
    },
    {
      "cell_type": "code",
      "metadata": {
        "id": "IISjQLP6_g9u",
        "colab": {
          "base_uri": "https://localhost:8080/"
        },
        "outputId": "f304f5b8-b86f-442c-82b3-e2b16e5ea3c3"
      },
      "source": [
        ""
      ],
      "execution_count": 26,
      "outputs": [
        {
          "output_type": "execute_result",
          "data": {
            "text/plain": [
              "Cement (component 1)(kg in a m^3 mixture)                 540.0\n",
              "Blast Furnace Slag (component 2)(kg in a m^3 mixture)     359.4\n",
              "Fly Ash (component 3)(kg in a m^3 mixture)                200.1\n",
              "Water  (component 4)(kg in a m^3 mixture)                 247.0\n",
              "Superplasticizer (component 5)(kg in a m^3 mixture)        32.2\n",
              "Coarse Aggregate  (component 6)(kg in a m^3 mixture)     1145.0\n",
              "Fine Aggregate (component 7)(kg in a m^3 mixture)         992.6\n",
              "Age (day)                                                 365.0\n",
              "dtype: float64"
            ]
          },
          "metadata": {
            "tags": []
          },
          "execution_count": 26
        }
      ]
    }
  ]
}