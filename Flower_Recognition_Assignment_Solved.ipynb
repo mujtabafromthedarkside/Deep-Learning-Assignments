{
  "nbformat": 4,
  "nbformat_minor": 0,
  "metadata": {
    "colab": {
      "name": "Copy 2 of Working Anew on Flower Recognition.ipynb",
      "provenance": [],
      "collapsed_sections": [],
      "toc_visible": true
    },
    "kernelspec": {
      "name": "python3",
      "display_name": "Python 3"
    },
    "language_info": {
      "name": "python"
    }
  },
  "cells": [
    {
      "cell_type": "code",
      "metadata": {
        "id": "qHPwij8g_vGv"
      },
      "source": [
        ""
      ],
      "execution_count": null,
      "outputs": []
    },
    {
      "cell_type": "markdown",
      "metadata": {
        "id": "EUcPGaqJ_46U"
      },
      "source": [
        "Assignment: Flowers Recognition\n",
        "Dataset Description:\n",
        "\n",
        "This dataset contains **4242** images of flowers.\n",
        "The data collection is based on the data flicr, google images, yandex images.\n",
        "You can use this datastet to recognize plants from the photo.\n",
        "\n",
        "Attribute Information:<br>\n",
        "The pictures are divided into **five classes**: chamomile, tulip, rose, sunflower, dandelion.<br>\n",
        "For each class there are about **800 photos**. Photos are not high resolution, about **320x240 pixels**.<br>\n",
        "<b>Also explore how to resize images in tensorflow and then resize all the images to a same size.</b><br>\n",
        "This is a Multiclass Classification Problem."
      ]
    },
    {
      "cell_type": "markdown",
      "metadata": {
        "id": "tLOMOdoa_5Ug"
      },
      "source": [
        "WORKFLOW : <br>\n",
        "Load Data <br>\n",
        "Split into 60 and 40 ratio.<br>\n",
        "Encode labels.<br>\n",
        "Create Model<br>\n",
        "Compilation Step (Note : Its a Multiclass Classification problem , select loss , metrics according to it)<br>\n",
        "Train the Model.<br>\n",
        "If the model gets overfit tune your model by changing the units , No. of layers , epochs , add dropout layer or add Regularizer according to the need .<br>\n",
        "Prediction should be > 85%<br>\n",
        "Evaluation Step<br>\n",
        "Prediction<br>\n"
      ]
    },
    {
      "cell_type": "code",
      "metadata": {
        "colab": {
          "base_uri": "https://localhost:8080/"
        },
        "id": "7caEcF3p_89J",
        "outputId": "57fb05f2-9c42-427a-b80d-979eadacd5d9"
      },
      "source": [
        "!unzip '/content/drive/MyDrive/flowers archive.zip'"
      ],
      "execution_count": 1,
      "outputs": []
    },  
    {
      "cell_type": "code",
      "metadata": {
        "colab": {
          "base_uri": "https://localhost:8080/",
          "height": 35
        },
        "id": "E43cWf1wB3d4",
        "outputId": "818025bc-df64-4867-e23c-df63c9a4153a"
      },
      "source": [
        "import os\n",
        "os.path.join('/content/flowers', 'flowers')  # oo interesting, you give it 2 strings and it makes a single path of them"
      ],
      "execution_count": 2,
      "outputs": [
        {
          "output_type": "execute_result",
          "data": {
            "application/vnd.google.colaboratory.intrinsic+json": {
              "type": "string"
            },
            "text/plain": [
              "'/content/flowers/flowers'"
            ]
          },
          "metadata": {
            "tags": []
          },
          "execution_count": 2
        }
      ]
    },
    {
      "cell_type": "code",
      "metadata": {
        "id": "zTbAQLS7OIJm"
      },
      "source": [
        "# deleting all the non-image files"
      ],
      "execution_count": 3,
      "outputs": []
    },
    {
      "cell_type": "code",
      "metadata": {
        "id": "3p_2f1y3DtPt"
      },
      "source": [
        "import matplotlib\n",
        "import os\n",
        "import PIL\n",
        "\n",
        "\n",
        "from os import listdir\n",
        "from matplotlib import image\n",
        "from PIL import Image\n",
        "import numpy as np\n",
        "import PIL.ImageOps\n",
        "\n",
        "def create_dataset_PIL(imgfolder):\n",
        "  img_data_array = []\n",
        "  class_name=[]\n",
        "  \n",
        "  for folder in listdir(imgfolder):\n",
        "    if folder != 'flowers':\n",
        "      for filename in listdir(os.path.join(imgfolder, folder)):\n",
        "        if '.jpg' in filename:\n",
        "\n",
        "          # load images:\n",
        "          image = Image.open(os.path.join(imgfolder , folder , filename)).resize((320,240))\n",
        "          image = PIL.ImageOps.grayscale(image)\n",
        "                                     #image = image.imread(os.path.join(imgfolder , folder , filename)) \n",
        "         # manipulating the image array to our needs:\n",
        "          image = np.array(image)\n",
        "          image = image.reshape((320*240,))\n",
        "          image = image.astype('float32')\n",
        "          image /= 255 \n",
        "\n",
        "         #append data + label to their respective lists:\n",
        "          img_data_array.append(image)\n",
        "          class_name.append(folder)\n",
        "        else : \n",
        "          pass\n",
        "\n",
        "\n",
        "  return img_data_array , class_name"
      ],
      "execution_count": 59,
      "outputs": []
    },
    {
      "cell_type": "code",
      "metadata": {
        "id": "tFZz6RvTMqdA"
      },
      "source": [
        "image_data , labels = create_dataset_PIL('/content/flowers')"
      ],
      "execution_count": 60,
      "outputs": []
    },
    {
      "cell_type": "code",
      "metadata": {
        "id": "zdsXtGkzPno8"
      },
      "source": [
        "dicti = dict([(label, index) for index, label in enumerate(np.unique(labels)) ])"
      ],
      "execution_count": 61,
      "outputs": []
    },
    {
      "cell_type": "code",
      "metadata": {
        "id": "T2GPQQoSRAM9"
      },
      "source": [
        "target_labels = [dicti[labels[n]] for n in range(len(labels))]"
      ],
      "execution_count": 62,
      "outputs": []
    },
    {
      "cell_type": "code",
      "metadata": {
        "colab": {
          "base_uri": "https://localhost:8080/"
        },
        "id": "rCe6KCSXfE_s",
        "outputId": "a8773a5b-f00c-43cd-e121-048fee86f31c"
      },
      "source": [
        "len(target_labels)"
      ],
      "execution_count": 63,
      "outputs": [
        {
          "output_type": "execute_result",
          "data": {
            "text/plain": [
              "4323"
            ]
          },
          "metadata": {
            "tags": []
          },
          "execution_count": 63
        }
      ]
    },
    {
      "cell_type": "code",
      "metadata": {
        "colab": {
          "base_uri": "https://localhost:8080/"
        },
        "id": "XVdOJef9fFE7",
        "outputId": "6724e428-5e35-40b5-a2a4-0394cc373ef6"
      },
      "source": [
        "len(image_data)"
      ],
      "execution_count": 64,
      "outputs": [
        {
          "output_type": "execute_result",
          "data": {
            "text/plain": [
              "4323"
            ]
          },
          "metadata": {
            "tags": []
          },
          "execution_count": 64
        }
      ]
    },
    {
      "cell_type": "code",
      "metadata": {
        "colab": {
          "base_uri": "https://localhost:8080/"
        },
        "id": "pKnYNSl7fFLL",
        "outputId": "66558a62-eb6b-4a47-8691-ca336827e928"
      },
      "source": [
        "image_data[0].shape"
      ],
      "execution_count": 65,
      "outputs": [
        {
          "output_type": "execute_result",
          "data": {
            "text/plain": [
              "(76800,)"
            ]
          },
          "metadata": {
            "tags": []
          },
          "execution_count": 65
        }
      ]
    },
    {
      "cell_type": "code",
      "metadata": {
        "id": "uM6woF0Lhoof"
      },
      "source": [
        "# Shuffling our dataset:\n",
        "\n",
        "import random\n",
        "\n",
        "# image_data , target_labels\n",
        "\n",
        "c = list(zip(image_data, target_labels))\n",
        "\n",
        "random.shuffle(c)\n",
        "\n",
        "image_data_shuffled , labels_shuffled = zip(*c)\n",
        "\n",
        "image_data_shuffled = list(image_data_shuffled)\n",
        "labels_shuffled = list(labels_shuffled)"
      ],
      "execution_count": 66,
      "outputs": []
    },
    {
      "cell_type": "code",
      "metadata": {
        "id": "Hv9YZaZbkjbn"
      },
      "source": [
        "labels = labels_shuffled\n",
        "data = image_data_shuffled"
      ],
      "execution_count": 67,
      "outputs": []
    },
    {
      "cell_type": "code",
      "metadata": {
        "id": "RFepcM-1hosd"
      },
      "source": [
        "# splitting data\n",
        "train_len = len(labels)*6//10\n",
        "test_len = len(labels) - train_len"
      ],
      "execution_count": 68,
      "outputs": []
    },
    {
      "cell_type": "code",
      "metadata": {
        "id": "OsTt4yM9hox2"
      },
      "source": [
        "train_data = data[0 : train_len].copy()\n",
        "test_data = data[train_len : train_len + test_len].copy()\n",
        "\n",
        "train_labels = labels[0 : train_len].copy()\n",
        "test_labels = labels[train_len : train_len + test_len].copy()"
      ],
      "execution_count": 69,
      "outputs": []
    },
    {
      "cell_type": "code",
      "metadata": {
        "id": "DgyTsjdUlkLz"
      },
      "source": [
        "# One hot encoding of labels:\n",
        "\n",
        "from keras.utils.np_utils import to_categorical\n",
        "\n",
        "train_labels = to_categorical(train_labels)\n",
        "test_labels = to_categorical(test_labels)"
      ],
      "execution_count": 70,
      "outputs": []
    },
    {
      "cell_type": "code",
      "metadata": {
        "colab": {
          "base_uri": "https://localhost:8080/"
        },
        "id": "xIRIUZF1w1h8",
        "outputId": "0bb0bcc7-d9d9-490a-f5d7-db9311ee672f"
      },
      "source": [
        "train_labels.dtype"
      ],
      "execution_count": 71,
      "outputs": [
        {
          "output_type": "execute_result",
          "data": {
            "text/plain": [
              "dtype('float32')"
            ]
          },
          "metadata": {
            "tags": []
          },
          "execution_count": 71
        }
      ]
    },
    {
      "cell_type": "code",
      "metadata": {
        "colab": {
          "base_uri": "https://localhost:8080/"
        },
        "id": "8ldDE54ew4Zl",
        "outputId": "8d74b850-a3ba-43bf-b4ce-968803901b8c"
      },
      "source": [
        "train_labels.shape"
      ],
      "execution_count": 72,
      "outputs": [
        {
          "output_type": "execute_result",
          "data": {
            "text/plain": [
              "(2593, 5)"
            ]
          },
          "metadata": {
            "tags": []
          },
          "execution_count": 72
        }
      ]
    },
    {
      "cell_type": "code",
      "metadata": {
        "colab": {
          "base_uri": "https://localhost:8080/"
        },
        "id": "OM3bkfMvlkR8",
        "outputId": "b259b156-dac9-4db3-8c59-8d67b8df361a"
      },
      "source": [
        "type(train_data)"
      ],
      "execution_count": 73,
      "outputs": [
        {
          "output_type": "execute_result",
          "data": {
            "text/plain": [
              "list"
            ]
          },
          "metadata": {
            "tags": []
          },
          "execution_count": 73
        }
      ]
    },
    {
      "cell_type": "code",
      "metadata": {
        "id": "KKJukXugzFyS"
      },
      "source": [
        "# converting lists to numpy arrays\n",
        "train_data = np.array(train_data, dtype = 'float32')"
      ],
      "execution_count": 74,
      "outputs": []
    },
    {
      "cell_type": "code",
      "metadata": {
        "id": "9vc2ufQXzK5g"
      },
      "source": [
        "test_data = np.array(test_data, dtype = 'float32')"
      ],
      "execution_count": 75,
      "outputs": []
    },
    {
      "cell_type": "code",
      "metadata": {
        "colab": {
          "base_uri": "https://localhost:8080/"
        },
        "id": "3lOdip3AzRJ4",
        "outputId": "83f186e4-aac5-463e-d3b9-d2c08e836af1"
      },
      "source": [
        "train_data.shape , test_data.shape"
      ],
      "execution_count": 76,
      "outputs": [
        {
          "output_type": "execute_result",
          "data": {
            "text/plain": [
              "((2593, 76800), (1730, 76800))"
            ]
          },
          "metadata": {
            "tags": []
          },
          "execution_count": 76
        }
      ]
    },
    {
      "cell_type": "code",
      "metadata": {
        "id": "qfrpLNIuzEcA"
      },
      "source": [
        "# converting list to numpy array:  step not needed\n",
        "\n",
        "#x_train = np.array([ a for a in train_data ], dtype = np.float32)"
      ],
      "execution_count": 19,
      "outputs": []
    },
    {
      "cell_type": "code",
      "metadata": {
        "id": "pCYBS3HezEgw"
      },
      "source": [
        "# dividing train_data in ratio of 7:3 for sake of validation\n",
        "\n",
        "len_partial_train = len(train_data)*7//10\n",
        "len_validation = train_len - len_partial_train"
      ],
      "execution_count": 77,
      "outputs": []
    },
    {
      "cell_type": "code",
      "metadata": {
        "id": "3cejEpjVljS8"
      },
      "source": [
        "partial_train_data = train_data[0 : len_partial_train]\n",
        "val_data = train_data[len_partial_train : ]"
      ],
      "execution_count": 78,
      "outputs": []
    },
    {
      "cell_type": "code",
      "metadata": {
        "id": "xvAFdgN5ljXm"
      },
      "source": [
        "partial_train_labels = train_labels[0 : len_partial_train]\n",
        "val_labels = train_labels[len_partial_train : ]"
      ],
      "execution_count": 79,
      "outputs": []
    },
    {
      "cell_type": "code",
      "metadata": {
        "colab": {
          "base_uri": "https://localhost:8080/"
        },
        "id": "0Ws2zjWNmVnZ",
        "outputId": "cc1827f6-1052-4664-ae7c-80a850966f85"
      },
      "source": [
        "type(partial_train_labels)"
      ],
      "execution_count": 80,
      "outputs": [
        {
          "output_type": "execute_result",
          "data": {
            "text/plain": [
              "numpy.ndarray"
            ]
          },
          "metadata": {
            "tags": []
          },
          "execution_count": 80
        }
      ]
    },
    {
      "cell_type": "code",
      "metadata": {
        "colab": {
          "base_uri": "https://localhost:8080/"
        },
        "id": "xwb55PRumY75",
        "outputId": "da336256-e54b-458e-9d40-44967667f0e9"
      },
      "source": [
        "type(val_data)"
      ],
      "execution_count": 81,
      "outputs": [
        {
          "output_type": "execute_result",
          "data": {
            "text/plain": [
              "numpy.ndarray"
            ]
          },
          "metadata": {
            "tags": []
          },
          "execution_count": 81
        }
      ]
    },
    {
      "cell_type": "code",
      "metadata": {
        "colab": {
          "base_uri": "https://localhost:8080/"
        },
        "id": "WvEoo8J-qDvW",
        "outputId": "474cfb6e-f380-491c-f3bd-ef8504eb0201"
      },
      "source": [
        "len_validation"
      ],
      "execution_count": 82,
      "outputs": [
        {
          "output_type": "execute_result",
          "data": {
            "text/plain": [
              "778"
            ]
          },
          "metadata": {
            "tags": []
          },
          "execution_count": 82
        }
      ]
    },
    {
      "cell_type": "code",
      "metadata": {
        "colab": {
          "base_uri": "https://localhost:8080/"
        },
        "id": "q3bjQmI9uMoH",
        "outputId": "887b800d-c41a-4bdb-be19-2ec549f6dcd3"
      },
      "source": [
        "partial_train_data.shape"
      ],
      "execution_count": 83,
      "outputs": [
        {
          "output_type": "execute_result",
          "data": {
            "text/plain": [
              "(1815, 76800)"
            ]
          },
          "metadata": {
            "tags": []
          },
          "execution_count": 83
        }
      ]
    },
    {
      "cell_type": "code",
      "metadata": {
        "colab": {
          "base_uri": "https://localhost:8080/"
        },
        "id": "D2LYY98ruMrz",
        "outputId": "83880512-635a-41df-f0cc-85e10e64a891"
      },
      "source": [
        "val_data.shape"
      ],
      "execution_count": 32,
      "outputs": [
        {
          "output_type": "execute_result",
          "data": {
            "text/plain": [
              "(778, 76800, 3)"
            ]
          },
          "metadata": {
            "tags": []
          },
          "execution_count": 32
        }
      ]
    },
    {
      "cell_type": "code",
      "metadata": {
        "colab": {
          "base_uri": "https://localhost:8080/"
        },
        "id": "oLiORNrx1lnF",
        "outputId": "73665f78-25f6-42b1-8a12-e2defe6bd368"
      },
      "source": [
        "val_labels.shape"
      ],
      "execution_count": 35,
      "outputs": [
        {
          "output_type": "execute_result",
          "data": {
            "text/plain": [
              "(778, 5)"
            ]
          },
          "metadata": {
            "tags": []
          },
          "execution_count": 35
        }
      ]
    },
    {
      "cell_type": "code",
      "metadata": {
        "colab": {
          "base_uri": "https://localhost:8080/"
        },
        "id": "E4EsvcqP1pUm",
        "outputId": "5bd2f12c-883d-4d2b-d47c-becebb3754ac"
      },
      "source": [
        "partial_train_labels.shape"
      ],
      "execution_count": 36,
      "outputs": [
        {
          "output_type": "execute_result",
          "data": {
            "text/plain": [
              "(1815, 5)"
            ]
          },
          "metadata": {
            "tags": []
          },
          "execution_count": 36
        }
      ]
    },
    {
      "cell_type": "code",
      "metadata": {
        "id": "JVeusf0wp4Kh"
      },
      "source": [
        "from keras import models\n",
        "from keras import layers\n",
        "from keras import regularizers\n",
        "\n",
        "modelF = models.Sequential()\n",
        "\n",
        "modelF.add(layers.Dense(512, activation = 'relu', kernel_regularizer = regularizers.l2(0.001), input_shape = (320*240,))) \n",
        "modelF.add(layers.Dropout(0.2))\n",
        "modelF.add(layers.Dense(64, activation = 'relu', kernel_regularizer = regularizers.l2(0.001) ))\n",
        "modelF.add(layers.Dropout(0.2))\n",
        "modelF.add(layers.Dense(64, activation = 'relu', kernel_regularizer = regularizers.l2(0.001)))\n",
        "modelF.add(layers.Dropout(0.2))\n",
        "modelF.add(layers.Dense(5, activation = 'softmax'))\n",
        "\n",
        "modelF.compile(optimizer = 'rmsprop',\n",
        "               loss = 'categorical_crossentropy',\n",
        "               metrics = ['accuracy'])"
      ],
      "execution_count": 91,
      "outputs": []
    },
    {
      "cell_type": "code",
      "metadata": {
        "id": "zGIaRvf8p4VM",
        "colab": {
          "base_uri": "https://localhost:8080/"
        },
        "outputId": "33c29b71-b623-4cb6-e19d-318d6bcd6c05"
      },
      "source": [
        "\n",
        "historyF = modelF.fit(partial_train_data, \n",
        "                      partial_train_labels,\n",
        "                      epochs = 10,\n",
        "                      batch_size = 32,\n",
        "                      validation_data = (val_data, val_labels)\n",
        "                      )"
      ],
      "execution_count": 92,
      "outputs": [
        {
          "output_type": "stream",
          "text": [
            "Epoch 1/10\n",
            "57/57 [==============================] - 31s 513ms/step - loss: 22.4288 - accuracy: 0.2291 - val_loss: 4.7014 - val_accuracy: 0.1902\n",
            "Epoch 2/10\n",
            "57/57 [==============================] - 29s 504ms/step - loss: 2.7307 - accuracy: 0.2111 - val_loss: 2.0419 - val_accuracy: 0.2301\n",
            "Epoch 3/10\n",
            "57/57 [==============================] - 29s 505ms/step - loss: 2.1780 - accuracy: 0.2362 - val_loss: 1.9038 - val_accuracy: 0.2301\n",
            "Epoch 4/10\n",
            "57/57 [==============================] - 29s 506ms/step - loss: 1.9613 - accuracy: 0.2258 - val_loss: 1.8513 - val_accuracy: 0.2301\n",
            "Epoch 5/10\n",
            "57/57 [==============================] - 29s 505ms/step - loss: 1.9280 - accuracy: 0.2178 - val_loss: 1.7572 - val_accuracy: 0.2301\n",
            "Epoch 6/10\n",
            "57/57 [==============================] - 29s 504ms/step - loss: 1.7848 - accuracy: 0.2102 - val_loss: 1.7358 - val_accuracy: 0.2301\n",
            "Epoch 7/10\n",
            "57/57 [==============================] - 29s 507ms/step - loss: 1.7690 - accuracy: 0.2436 - val_loss: 1.6693 - val_accuracy: 0.2301\n",
            "Epoch 8/10\n",
            "57/57 [==============================] - 29s 507ms/step - loss: 1.7292 - accuracy: 0.2316 - val_loss: 1.6956 - val_accuracy: 0.2275\n",
            "Epoch 9/10\n",
            "57/57 [==============================] - 29s 509ms/step - loss: 1.7196 - accuracy: 0.2504 - val_loss: 1.6530 - val_accuracy: 0.2275\n",
            "Epoch 10/10\n",
            "57/57 [==============================] - 29s 506ms/step - loss: 1.6982 - accuracy: 0.2445 - val_loss: 1.6717 - val_accuracy: 0.2275\n"
          ],
          "name": "stdout"
        }
      ]
    },
    {
      "cell_type": "code",
      "metadata": {
        "id": "o18bAsGt1eBG"
      },
      "source": [
        ""
      ],
      "execution_count": null,
      "outputs": []
    }
  ]
}
